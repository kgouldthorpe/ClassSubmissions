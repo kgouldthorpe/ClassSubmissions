{
 "cells": [
  {
   "cell_type": "markdown",
   "metadata": {},
   "source": [
    "# WeatherPy\n",
    "----\n",
    "\n",
    "#### Note\n",
    "* Instructions have been included for each segment. You do not have to follow them exactly, but they are included to help you think through the steps."
   ]
  },
  {
   "cell_type": "code",
   "execution_count": 1,
   "metadata": {
    "scrolled": true
   },
   "outputs": [],
   "source": [
    "# Dependencies and Setup\n",
    "import matplotlib.pyplot as plt\n",
    "import pandas as pd\n",
    "import numpy as np\n",
    "import requests\n",
    "import time\n",
    "\n",
    "# Import API key\n",
    "from api_keys import api_key\n",
    "\n",
    "# Incorporated citipy to determine city based on latitude and longitude\n",
    "from citipy import citipy\n",
    "\n",
    "# Output File (CSV)\n",
    "output_data_file = \"Outputs/cities.csv\"\n",
    "\n",
    "# Range of latitudes and longitudes\n",
    "lat_range = (-90, 90)\n",
    "lng_range = (-180, 180)"
   ]
  },
  {
   "cell_type": "markdown",
   "metadata": {},
   "source": [
    "## Generate Cities List"
   ]
  },
  {
   "cell_type": "code",
   "execution_count": 2,
   "metadata": {},
   "outputs": [
    {
     "data": {
      "text/plain": [
       "631"
      ]
     },
     "execution_count": 2,
     "metadata": {},
     "output_type": "execute_result"
    }
   ],
   "source": [
    "# List for holding lat_lngs and cities\n",
    "lat_lngs = []\n",
    "cities = []\n",
    "\n",
    "# Create a set of random lat and lng combinations\n",
    "lats = np.random.uniform(low=-90.000, high=90.000, size=1500)\n",
    "lngs = np.random.uniform(low=-180.000, high=180.000, size=1500)\n",
    "lat_lngs = zip(lats, lngs)\n",
    "\n",
    "# Identify nearest city for each lat, lng combination\n",
    "for lat_lng in lat_lngs:\n",
    "    city = citipy.nearest_city(lat_lng[0], lat_lng[1]).city_name\n",
    "       \n",
    "    # If the city is unique, then add it to a our cities list\n",
    "    if city not in cities:\n",
    "        cities.append(city)\n",
    "# Print the city count to confirm sufficient count\n",
    "len(cities)"
   ]
  },
  {
   "cell_type": "markdown",
   "metadata": {},
   "source": [
    "### Perform API Calls\n",
    "* Perform a weather check on each city using a series of successive API calls.\n",
    "* Include a print log of each city as it'sbeing processed (with the city number and city name).\n"
   ]
  },
  {
   "cell_type": "code",
   "execution_count": null,
   "metadata": {},
   "outputs": [
    {
     "name": "stdout",
     "output_type": "stream",
     "text": [
      "Processing Data for 2011706: Busselton\n",
      "No data available - moving to next city.\n",
      "Processing Data for 1756: Oxelosund\n",
      "Processing Data for 7151: Cabo San Lucas\n",
      "Processing Data for 7271: Avarua\n",
      "Processing Data for 7881: Hilo\n",
      "Processing Data for 5416: Ojinaga\n",
      "No data available - moving to next city.\n",
      "Processing Data for 8841: Suraabad\n",
      "No data available - moving to next city.\n",
      "No data available - moving to next city.\n",
      "No data available - moving to next city.\n",
      "Processing Data for 81: Tasiilaq\n",
      "Processing Data for 7873: Kapaa\n",
      "Processing Data for 2008959: Mataura\n",
      "No data available - moving to next city.\n",
      "No data available - moving to next city.\n",
      "No data available - moving to next city.\n",
      "Processing Data for 9650: Xushan\n",
      "No data available - moving to next city.\n",
      "Processing Data for 6452: Souillac\n",
      "Processing Data for 8776: Georgetown\n",
      "No data available - moving to next city.\n",
      "No data available - moving to next city.\n",
      "No data available - moving to next city.\n",
      "Processing Data for 2006131: Hermanus\n",
      "Processing Data for 7684: College\n",
      "Processing Data for 8023: Katsuura\n",
      "Processing Data for 9545: New Norfolk\n",
      "Processing Data for 4747: Lompoc\n",
      "No data available - moving to next city.\n",
      "No data available - moving to next city.\n",
      "Processing Data for 8512: Castro\n",
      "No data available - moving to next city.\n",
      "Processing Data for 8343: Arraial do Cabo\n",
      "No data available - moving to next city.\n",
      "Processing Data for 8926: Nikolskoye\n",
      "Processing Data for 2011314: Port Alfred\n",
      "Processing Data for 75281: Dunedin\n",
      "Processing Data for 8303: Ushuaia\n",
      "Processing Data for 8487: Punta Arenas\n",
      "Processing Data for 7879: Kahului\n",
      "Processing Data for 2623: Songea\n",
      "Processing Data for 4447: Havre\n",
      "Processing Data for 4042: Kodiak\n",
      "No data available - moving to next city.\n",
      "No data available - moving to next city.\n",
      "No data available - moving to next city.\n",
      "No data available - moving to next city.\n",
      "Processing Data for 2827: Avera\n",
      "Processing Data for 8521: Puerto Ayora\n",
      "Processing Data for 9566: Palmer\n",
      "Processing Data for 9566: Victor Harbor\n",
      "No data available - moving to next city.\n",
      "No data available - moving to next city.\n",
      "No data available - moving to next city.\n",
      "No data available - moving to next city.\n",
      "Processing Data for 5782: Albany\n",
      "Processing Data for 9545: Hobart\n",
      "No data available - moving to next city.\n",
      "No data available - moving to next city.\n",
      "Processing Data for 8160: Sapa\n",
      "Processing Data for 9525: Esperance\n",
      "No data available - moving to next city.\n",
      "Processing Data for 8363: Vila Velha\n",
      "Processing Data for 858: Mayo\n",
      "Processing Data for 2019898: Gualeguaychu\n",
      "Processing Data for 1966: Bredasdorp\n",
      "No data available - moving to next city.\n",
      "Processing Data for 2000217: Kaitangata\n",
      "No data available - moving to next city.\n",
      "No data available - moving to next city.\n",
      "No data available - moving to next city.\n",
      "Processing Data for 6321: Ionia\n",
      "No data available - moving to next city.\n",
      "No data available - moving to next city.\n",
      "No data available - moving to next city.\n",
      "No data available - moving to next city.\n",
      "Processing Data for 9372: Victoria\n",
      "No data available - moving to next city.\n",
      "No data available - moving to next city.\n",
      "Processing Data for 998: Torbay\n",
      "No data available - moving to next city.\n",
      "Processing Data for 6621: Koroni\n",
      "No data available - moving to next city.\n",
      "No data available - moving to next city.\n",
      "No data available - moving to next city.\n",
      "Processing Data for 9600: Picton\n",
      "No data available - moving to next city.\n",
      "No data available - moving to next city.\n",
      "No data available - moving to next city.\n",
      "Processing Data for 9537: Codrington\n",
      "No data available - moving to next city.\n",
      "Processing Data for 7411: Buraydah\n",
      "Processing Data for 6960: Esenyurt\n",
      "Processing Data for 7306: Alofi\n",
      "Processing Data for 6629: Saint George\n",
      "No data available - moving to next city.\n",
      "No data available - moving to next city.\n",
      "No data available - moving to next city.\n",
      "No data available - moving to next city.\n",
      "Processing Data for 796: Aklavik\n",
      "Processing Data for 1899: Cape Town\n",
      "Processing Data for 818: Hamilton\n",
      "No data available - moving to next city.\n",
      "No data available - moving to next city.\n",
      "Processing Data for 9440: Kuala Terengganu\n",
      "No data available - moving to next city.\n",
      "Processing Data for 8875: Provideniya\n",
      "No data available - moving to next city.\n",
      "Processing Data for 9490: Cairns\n",
      "No data available - moving to next city.\n",
      "No data available - moving to next city.\n",
      "Processing Data for 8514: Coquimbo\n",
      "Processing Data for 9262: Mae Sot\n",
      "Processing Data for 6792: Rome\n",
      "No data available - moving to next city.\n",
      "Processing Data for 7042: Priboj\n",
      "No data available - moving to next city.\n",
      "Processing Data for 810: Geraldton\n",
      "Processing Data for 2008959: Tuatapere\n",
      "No data available - moving to next city.\n",
      "Processing Data for 2016422: Ahipara\n",
      "No data available - moving to next city.\n",
      "Processing Data for 47: Qaqortoq\n",
      "No data available - moving to next city.\n",
      "No data available - moving to next city.\n",
      "Processing Data for 7709: Homer\n",
      "Processing Data for 2016422: Kaeo\n",
      "No data available - moving to next city.\n",
      "No data available - moving to next city.\n",
      "Processing Data for 3680: Norfolk\n",
      "No data available - moving to next city.\n",
      "Processing Data for 8927: Severomorsk\n",
      "No data available - moving to next city.\n",
      "No data available - moving to next city.\n",
      "No data available - moving to next city.\n",
      "No data available - moving to next city.\n",
      "Processing Data for 7396: Faya\n",
      "Processing Data for 8590: Corinto\n",
      "Processing Data for 8951: Talnakh\n",
      "No data available - moving to next city.\n",
      "No data available - moving to next city.\n",
      "Processing Data for 1696: Orlik\n",
      "No data available - moving to next city.\n",
      "No data available - moving to next city.\n",
      "Processing Data for 935: Thompson\n",
      "No data available - moving to next city.\n",
      "No data available - moving to next city.\n",
      "No data available - moving to next city.\n",
      "Processing Data for 1918: Oudtshoorn\n",
      "Processing Data for 4127: Fortuna\n",
      "Processing Data for 1643: Bud\n",
      "No data available - moving to next city.\n",
      "Processing Data for 2002185: Gura Teghii\n",
      "No data available - moving to next city.\n",
      "Processing Data for 2061: Mahebourg\n",
      "Processing Data for 1002: Shelburne\n",
      "No data available - moving to next city.\n",
      "Processing Data for 2012815: Ballina\n",
      "No data available - moving to next city.\n",
      "No data available - moving to next city.\n",
      "No data available - moving to next city.\n",
      "Processing Data for 9369: Sibu\n",
      "Processing Data for 5940: Silver City\n",
      "Processing Data for 7640: Bethel\n",
      "No data available - moving to next city.\n",
      "No data available - moving to next city.\n",
      "Processing Data for 8353: Rodrigues Alves\n",
      "No data available - moving to next city.\n",
      "Processing Data for 1602: Roald\n",
      "No data available - moving to next city.\n",
      "Processing Data for 8403: Maraba\n",
      "No data available - moving to next city.\n",
      "No data available - moving to next city.\n",
      "No data available - moving to next city.\n",
      "Processing Data for 7684: Fairbanks\n",
      "No data available - moving to next city.\n",
      "Processing Data for 8887: Petropavlovsk-Kamchatskiy\n",
      "Processing Data for 1012: Mackay\n",
      "No data available - moving to next city.\n",
      "Processing Data for 9017: Babynino\n",
      "Processing Data for 9563: Narrabri\n",
      "Processing Data for 8942: Bograd\n",
      "No data available - moving to next city.\n",
      "Processing Data for 1007: Yellowknife\n"
     ]
    }
   ],
   "source": [
    "#Define base url for API call\n",
    "base_url = \"http://api.openweathermap.org/data/2.5/weather?\"\n",
    "\n",
    "#Identify lists for dataframe\n",
    "names = []\n",
    "identification = []\n",
    "lats = []\n",
    "temperature = []\n",
    "humidity = []\n",
    "cloudiness = []\n",
    "wind_speed = []\n",
    "\n",
    "#Create for loop to run through each city\n",
    "for city in cities:\n",
    "    query_url = base_url + \"appid=\" + api_key + \"&q=\" + city\n",
    "    response = requests.get(query_url)\n",
    "    weather_json = response.json()\n",
    "    \n",
    "    #Append each list for dataframe, making sure to have an out for errors\n",
    "    try:\n",
    "        if weather_json[\"sys\"][\"id\"] > 0:\n",
    "            loc = weather_json[\"name\"]\n",
    "            names.append(loc)\n",
    "        ids = weather_json[\"sys\"][\"id\"]\n",
    "        identification.append(ids)\n",
    "        lat = weather_json[\"coord\"][\"lat\"]\n",
    "        lats.append(lat)\n",
    "        temp = weather_json[\"main\"][\"temp_max\"]\n",
    "        temperature.append(temp)\n",
    "        humid = weather_json[\"main\"][\"humidity\"]\n",
    "        humidity.append(humid)\n",
    "        cloud = weather_json[\"clouds\"][\"all\"]\n",
    "        cloudiness.append(cloud)\n",
    "        wind = weather_json[\"wind\"][\"speed\"]\n",
    "        wind_speed.append(wind)\n",
    "        \n",
    "        print(f\"Processing Data for {ids}: {loc}\")\n",
    "        \n",
    "    except KeyError:\n",
    "        print(\"No data available - moving to next city.\")\n",
    "    \n",
    "    "
   ]
  },
  {
   "cell_type": "markdown",
   "metadata": {},
   "source": [
    "### Convert Raw Data to DataFrame\n",
    "* Export the city data into a .csv.\n",
    "* Display the DataFrame"
   ]
  },
  {
   "cell_type": "code",
   "execution_count": 14,
   "metadata": {
    "scrolled": false
   },
   "outputs": [
    {
     "data": {
      "text/html": [
       "<div>\n",
       "<style scoped>\n",
       "    .dataframe tbody tr th:only-of-type {\n",
       "        vertical-align: middle;\n",
       "    }\n",
       "\n",
       "    .dataframe tbody tr th {\n",
       "        vertical-align: top;\n",
       "    }\n",
       "\n",
       "    .dataframe thead th {\n",
       "        text-align: right;\n",
       "    }\n",
       "</style>\n",
       "<table border=\"1\" class=\"dataframe\">\n",
       "  <thead>\n",
       "    <tr style=\"text-align: right;\">\n",
       "      <th></th>\n",
       "      <th>City</th>\n",
       "      <th>City ID</th>\n",
       "      <th>Location</th>\n",
       "      <th>Temperature</th>\n",
       "      <th>Humidity</th>\n",
       "      <th>Cloudiness</th>\n",
       "      <th>Wind Speed</th>\n",
       "    </tr>\n",
       "  </thead>\n",
       "  <tbody>\n",
       "    <tr>\n",
       "      <th>0</th>\n",
       "      <td>Busselton</td>\n",
       "      <td>2011706</td>\n",
       "      <td>-33.64</td>\n",
       "      <td>284.26</td>\n",
       "      <td>63</td>\n",
       "      <td>68</td>\n",
       "      <td>7.51</td>\n",
       "    </tr>\n",
       "    <tr>\n",
       "      <th>1</th>\n",
       "      <td>Oxelosund</td>\n",
       "      <td>1756</td>\n",
       "      <td>58.67</td>\n",
       "      <td>287.15</td>\n",
       "      <td>100</td>\n",
       "      <td>0</td>\n",
       "      <td>0.37</td>\n",
       "    </tr>\n",
       "    <tr>\n",
       "      <th>2</th>\n",
       "      <td>Cabo San Lucas</td>\n",
       "      <td>7151</td>\n",
       "      <td>22.89</td>\n",
       "      <td>308.71</td>\n",
       "      <td>52</td>\n",
       "      <td>20</td>\n",
       "      <td>2.10</td>\n",
       "    </tr>\n",
       "    <tr>\n",
       "      <th>3</th>\n",
       "      <td>Avarua</td>\n",
       "      <td>7271</td>\n",
       "      <td>-21.21</td>\n",
       "      <td>299.15</td>\n",
       "      <td>83</td>\n",
       "      <td>100</td>\n",
       "      <td>3.10</td>\n",
       "    </tr>\n",
       "    <tr>\n",
       "      <th>4</th>\n",
       "      <td>Hilo</td>\n",
       "      <td>7881</td>\n",
       "      <td>19.71</td>\n",
       "      <td>302.15</td>\n",
       "      <td>70</td>\n",
       "      <td>90</td>\n",
       "      <td>4.60</td>\n",
       "    </tr>\n",
       "    <tr>\n",
       "      <th>5</th>\n",
       "      <td>Ojinaga</td>\n",
       "      <td>5416</td>\n",
       "      <td>29.56</td>\n",
       "      <td>311.15</td>\n",
       "      <td>19</td>\n",
       "      <td>1</td>\n",
       "      <td>2.10</td>\n",
       "    </tr>\n",
       "    <tr>\n",
       "      <th>6</th>\n",
       "      <td>Suraabad</td>\n",
       "      <td>8841</td>\n",
       "      <td>40.82</td>\n",
       "      <td>298.15</td>\n",
       "      <td>57</td>\n",
       "      <td>75</td>\n",
       "      <td>12.30</td>\n",
       "    </tr>\n",
       "    <tr>\n",
       "      <th>7</th>\n",
       "      <td>Tasiilaq</td>\n",
       "      <td>81</td>\n",
       "      <td>65.61</td>\n",
       "      <td>277.15</td>\n",
       "      <td>100</td>\n",
       "      <td>85</td>\n",
       "      <td>3.10</td>\n",
       "    </tr>\n",
       "    <tr>\n",
       "      <th>8</th>\n",
       "      <td>Kapaa</td>\n",
       "      <td>7873</td>\n",
       "      <td>22.08</td>\n",
       "      <td>305.15</td>\n",
       "      <td>62</td>\n",
       "      <td>20</td>\n",
       "      <td>4.60</td>\n",
       "    </tr>\n",
       "    <tr>\n",
       "      <th>9</th>\n",
       "      <td>Mataura</td>\n",
       "      <td>2008959</td>\n",
       "      <td>-46.19</td>\n",
       "      <td>282.59</td>\n",
       "      <td>77</td>\n",
       "      <td>86</td>\n",
       "      <td>4.02</td>\n",
       "    </tr>\n",
       "  </tbody>\n",
       "</table>\n",
       "</div>"
      ],
      "text/plain": [
       "             City  City ID  Location  Temperature  Humidity  Cloudiness  \\\n",
       "0       Busselton  2011706    -33.64       284.26        63          68   \n",
       "1       Oxelosund     1756     58.67       287.15       100           0   \n",
       "2  Cabo San Lucas     7151     22.89       308.71        52          20   \n",
       "3          Avarua     7271    -21.21       299.15        83         100   \n",
       "4            Hilo     7881     19.71       302.15        70          90   \n",
       "5         Ojinaga     5416     29.56       311.15        19           1   \n",
       "6        Suraabad     8841     40.82       298.15        57          75   \n",
       "7        Tasiilaq       81     65.61       277.15       100          85   \n",
       "8           Kapaa     7873     22.08       305.15        62          20   \n",
       "9         Mataura  2008959    -46.19       282.59        77          86   \n",
       "\n",
       "   Wind Speed  \n",
       "0        7.51  \n",
       "1        0.37  \n",
       "2        2.10  \n",
       "3        3.10  \n",
       "4        4.60  \n",
       "5        2.10  \n",
       "6       12.30  \n",
       "7        3.10  \n",
       "8        4.60  \n",
       "9        4.02  "
      ]
     },
     "execution_count": 14,
     "metadata": {},
     "output_type": "execute_result"
    }
   ],
   "source": [
    "#Create output file location for graphs\n",
    "output = \"C:\\\\Users\\\\kenda\\\\OneDrive\\\\Documents\\\\GitHub\\\\ClassSubmissions\\\\Homeworks\\\\06-Pythons-API\\\\Homework\\\\Instructions\\\\starter_code\\\\Outputs\\\\\"\n",
    "\n",
    "#Create dataframe\n",
    "data = {\"City\": names, \"City ID\": identification, \"Location\": lats, \"Temperature\": temperature, \"Humidity\": humidity, \"Cloudiness\": cloudiness, \"Wind Speed\": wind_speed}\n",
    "data_df = pd.DataFrame(data)\n",
    "data_df\n",
    "\n",
    "#Convert DF to CSV and save file\n",
    "data_df.to_csv(output_data_file, index = False)\n",
    "\n",
    "#View df\n",
    "data_df.head(10)\n",
    "\n"
   ]
  },
  {
   "cell_type": "markdown",
   "metadata": {},
   "source": [
    "### Plotting the Data\n",
    "* Use proper labeling of the plots using plot titles (including date of analysis) and axes labels.\n",
    "* Save the plotted figures as .pngs."
   ]
  },
  {
   "cell_type": "markdown",
   "metadata": {},
   "source": [
    "#### Latitude vs. Temperature Plot"
   ]
  },
  {
   "cell_type": "code",
   "execution_count": 15,
   "metadata": {},
   "outputs": [
    {
     "data": {
      "image/png": "[encoded data removed]",
      "text/plain": [
       "<Figure size 432x288 with 1 Axes>"
      ]
     },
     "metadata": {
      "needs_background": "light"
     },
     "output_type": "display_data"
    }
   ],
   "source": [
    "latvtemp = data_df.plot.scatter(x = 'Location', y = 'Temperature', c='DarkBlue', title =\"Temperature vs Location\", grid = True)\n",
    "\n",
    "latvtemp.get_figure().savefig(output+\"latvtemp.png\")\n"
   ]
  },
  {
   "cell_type": "markdown",
   "metadata": {},
   "source": [
    "#### Latitude vs. Humidity Plot"
   ]
  },
  {
   "cell_type": "code",
   "execution_count": 17,
   "metadata": {},
   "outputs": [
    {
     "data": {
      "image/png": "[encoded data removed]",
      "text/plain": [
       "<Figure size 432x288 with 1 Axes>"
      ]
     },
     "metadata": {
      "needs_background": "light"
     },
     "output_type": "display_data"
    }
   ],
   "source": [
    "latvhum = data_df.plot.scatter(x = 'Location', y = 'Humidity', c='DarkGreen', title =\"Humidity vs Location\", grid = True, ylim = [0,120])\n",
    "\n",
    "latvhum.get_figure().savefig(output+\"latvhum.png\")"
   ]
  },
  {
   "cell_type": "markdown",
   "metadata": {},
   "source": [
    "#### Latitude vs. Cloudiness Plot"
   ]
  },
  {
   "cell_type": "code",
   "execution_count": 18,
   "metadata": {},
   "outputs": [
    {
     "data": {
      "image/png": "[encoded data removed]",
      "text/plain": [
       "<Figure size 432x288 with 1 Axes>"
      ]
     },
     "metadata": {
      "needs_background": "light"
     },
     "output_type": "display_data"
    }
   ],
   "source": [
    "latvcloud = data_df.plot.scatter(x = 'Location', y = 'Cloudiness', c='Orange', title =\"Cloudiness vs Location\", grid = True)\n",
    "\n",
    "latvcloud.get_figure().savefig(output+\"latvcloud.png\")"
   ]
  },
  {
   "cell_type": "markdown",
   "metadata": {},
   "source": [
    "#### Latitude vs. Wind Speed Plot"
   ]
  },
  {
   "cell_type": "code",
   "execution_count": 20,
   "metadata": {},
   "outputs": [
    {
     "data": {
      "image/png": "[encoded data removed]",
      "text/plain": [
       "<Figure size 432x288 with 1 Axes>"
      ]
     },
     "metadata": {
      "needs_background": "light"
     },
     "output_type": "display_data"
    }
   ],
   "source": [
    "latvwind = data_df.plot.scatter(x = 'Location', y = 'Wind Speed', c='Purple', title =\"Wind Speed vs Location\", grid = True)\n",
    "\n",
    "latvwind.get_figure().savefig(output+\"latvwind.png\")"
   ]
  },
  {
   "cell_type": "code",
   "execution_count": null,
   "metadata": {},
   "outputs": [],
   "source": []
  }
 ],
 "metadata": {
  "anaconda-cloud": {},
  "kernel_info": {
   "name": "python3"
  },
  "kernelspec": {
   "display_name": "Python 3",
   "language": "python",
   "name": "python3"
  },
  "language_info": {
   "codemirror_mode": {
    "name": "ipython",
    "version": 3
   },
   "file_extension": ".py",
   "mimetype": "text/x-python",
   "name": "python",
   "nbconvert_exporter": "python",
   "pygments_lexer": "ipython3",
   "version": "3.6.9"
  },
  "nteract": {
   "version": "0.12.3"
  }
 },
 "nbformat": 4,
 "nbformat_minor": 2
}
