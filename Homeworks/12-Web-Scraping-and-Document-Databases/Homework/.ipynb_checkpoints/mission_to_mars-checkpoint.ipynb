{
 "cells": [
  {
   "cell_type": "code",
   "execution_count": 1,
   "metadata": {},
   "outputs": [],
   "source": [
    "from splinter import Browser\n",
    "from bs4 import BeautifulSoup\n",
    "import pandas as pd"
   ]
  },
  {
   "cell_type": "code",
   "execution_count": 2,
   "metadata": {},
   "outputs": [],
   "source": [
    "def init_browser():\n",
    "    executable_path = {'executable_path': 'C:\\Program Files\\ChromeDriver\\chromedriver.exe'}\n",
    "    return Browser(\"chrome\", **executable_path, headless=False)"
   ]
  },
  {
   "cell_type": "code",
   "execution_count": 3,
   "metadata": {},
   "outputs": [],
   "source": [
    "#Step 1 - Scraping"
   ]
  },
  {
   "cell_type": "code",
   "execution_count": 10,
   "metadata": {},
   "outputs": [],
   "source": [
    "#Scrape NASA News\n",
    "def scrape1():\n",
    "    browser = init_browser()\n",
    "    mars_news = {}\n",
    "    \n",
    "    url_1 = \"https://mars.nasa.gov/news/\"\n",
    "    browser.visit(url_1)\n",
    "\n",
    "    html = browser.lxml\n",
    "    soup = BeautifulSoup(lxml, \"lxml.parser\")\n",
    "\n",
    "    mars_news[\"Headline\"] = soup.find(\"a\", class_=\"content_title\").get_text()\n",
    "    mars_news[\"Teaser\"] = soup.find(\"div\", class_=\"article_teaser_body\").get_text()\n",
    "    \n",
    "    return mars_news"
   ]
  },
  {
   "cell_type": "code",
   "execution_count": 5,
   "metadata": {},
   "outputs": [],
   "source": [
    "#Scrape Space Images\n",
    "def scrape2():\n",
    "    browser = init_browser()\n",
    "    featured_image_url = {}\n",
    "    \n",
    "    url_2 = \"https://www.jpl.nasa.gov/spaceimages/?search=&category=Mars\"\n",
    "    browser.visit(url_2)\n",
    "\n",
    "    html = browser.html\n",
    "    soup = BeautifulSoup(html, \"html.parser\")\n",
    "\n",
    "    featured_image_url[\"Image URL\"] = soup.find(\"article\", class_=\"carousel_item\").get_url()\n",
    "        \n",
    "    return featured_image_url"
   ]
  },
  {
   "cell_type": "code",
   "execution_count": 6,
   "metadata": {},
   "outputs": [],
   "source": [
    "#Scrape Mars Twitter\n",
    "def scrape3():\n",
    "    browser = init_browser()\n",
    "    mars_weather = {}\n",
    "    \n",
    "    url_3 = \"https://twitter.com/marswxreport?lang=en\"\n",
    "    browser.visit(url_3)\n",
    "\n",
    "    html = browser.html\n",
    "    soup = BeautifulSoup(html, \"html.parser\")\n",
    "\n",
    "    mars_weather[\"Report\"] = soup.find(\"p\", class_=\"TweetTextSize TweetTextSize--normal js-tweet-text tweet-text\").get_text()\n",
    "        \n",
    "    return mars_weather"
   ]
  },
  {
   "cell_type": "code",
   "execution_count": 7,
   "metadata": {},
   "outputs": [],
   "source": [
    "#Scrape Mars Facts\n",
    "def scrape4():\n",
    "    browser = init_browser()\n",
    "    mars_facts = {}\n",
    "    \n",
    "    url_4 = \"https://space-facts.com/mars/\"\n",
    "    browser.visit(url_4)\n",
    "\n",
    "    html = browser.html\n",
    "    soup = BeautifulSoup(html, \"html.parser\")\n",
    "\n",
    "    mars_facts[\"Equatorial Diameter\"] = soup.find(\"td\", class_=\"Column-2\")[0].get_text()\n",
    "    mars_facts[\"Polar Diameter\"] = soup.find(\"td\", class_=\"Column-2\")[1].get_text()\n",
    "    mars_facts[\"Mass\"] = soup.find(\"td\", class_=\"Column-2\")[2].get_text()\n",
    "    mars_facts[\"Moons\"] = soup.find(\"td\", class_=\"Column-2\")[3].get_text()\n",
    "    mars_facts[\"Orbit Distance\"] = soup.find(\"td\", class_=\"Column-2\")[4].get_text()\n",
    "    mars_facts[\"Orbit Period\"] = soup.find(\"td\", class_=\"Column-2\")[5].get_text()\n",
    "    mars_facts[\"Surface Temperature\"] = soup.find(\"td\", class_=\"Column-2\")[6].get_text()\n",
    "    mars_facts[\"First Record\"] = soup.find(\"td\", class_=\"Column-2\")[7].get_text()\n",
    "    mars_facts[\"Recorded By\"] = soup.find(\"td\", class_=\"Column-2\")[8].get_text()\n",
    "    \n",
    "    return mars_facts"
   ]
  },
  {
   "cell_type": "code",
   "execution_count": 15,
   "metadata": {},
   "outputs": [
    {
     "data": {
      "text/plain": [
       "[  Mars - Earth Comparison             Mars            Earth\n",
       " 0               Diameter:         6,779 km        12,742 km\n",
       " 1                   Mass:  6.39 × 10^23 kg  5.97 × 10^24 kg\n",
       " 2                  Moons:                2                1\n",
       " 3      Distance from Sun:   227,943,824 km   149,598,262 km\n",
       " 4         Length of Year:   687 Earth days      365.24 days\n",
       " 5            Temperature:    -153 to 20 °C      -88 to 58°C,\n",
       "                       0                              1\n",
       " 0  Equatorial Diameter:                       6,792 km\n",
       " 1       Polar Diameter:                       6,752 km\n",
       " 2                 Mass:  6.39 × 10^23 kg (0.11 Earths)\n",
       " 3                Moons:            2 (Phobos & Deimos)\n",
       " 4       Orbit Distance:       227,943,824 km (1.38 AU)\n",
       " 5         Orbit Period:           687 days (1.9 years)\n",
       " 6  Surface Temperature:                   -87 to -5 °C\n",
       " 7         First Record:              2nd millennium BC\n",
       " 8          Recorded By:           Egyptian astronomers]"
      ]
     },
     "execution_count": 15,
     "metadata": {},
     "output_type": "execute_result"
    }
   ],
   "source": [
    "url = \"https://mars.nasa.gov/news/\n",
    "\n"
   ]
  },
  {
   "cell_type": "code",
   "execution_count": null,
   "metadata": {},
   "outputs": [],
   "source": []
  }
 ],
 "metadata": {
  "kernelspec": {
   "display_name": "Python 3",
   "language": "python",
   "name": "python3"
  },
  "language_info": {
   "codemirror_mode": {
    "name": "ipython",
    "version": 3
   },
   "file_extension": ".py",
   "mimetype": "text/x-python",
   "name": "python",
   "nbconvert_exporter": "python",
   "pygments_lexer": "ipython3",
   "version": "3.7.3"
  }
 },
 "nbformat": 4,
 "nbformat_minor": 4
}
