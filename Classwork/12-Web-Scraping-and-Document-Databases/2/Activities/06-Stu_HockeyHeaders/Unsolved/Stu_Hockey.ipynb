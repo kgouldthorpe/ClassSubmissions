{
 "cells": [
  {
   "cell_type": "code",
   "execution_count": 7,
   "metadata": {},
   "outputs": [],
   "source": [
    "# Dependencies\n",
    "from bs4 import BeautifulSoup\n",
    "import requests\n",
    "import pymongo\n",
    "import datetime as dt"
   ]
  },
  {
   "cell_type": "code",
   "execution_count": 8,
   "metadata": {},
   "outputs": [],
   "source": [
    "# Initialize PyMongo to work with MongoDBs\n",
    "conn = 'mongodb://localhost:27017'\n",
    "client = pymongo.MongoClient(conn)"
   ]
  },
  {
   "cell_type": "code",
   "execution_count": 9,
   "metadata": {},
   "outputs": [],
   "source": [
    "# Define database and collection\n",
    "db = client.hockey_db\n",
    "collection = db.items"
   ]
  },
  {
   "cell_type": "code",
   "execution_count": 10,
   "metadata": {},
   "outputs": [],
   "source": [
    "# URL of page to be scraped\n",
    "url = 'https://www.nhl.com/'"
   ]
  },
  {
   "cell_type": "code",
   "execution_count": 11,
   "metadata": {},
   "outputs": [],
   "source": [
    "# Retrieve page with the requests module\n",
    "response = requests.get(url)"
   ]
  },
  {
   "cell_type": "code",
   "execution_count": 12,
   "metadata": {},
   "outputs": [],
   "source": [
    "# Create BeautifulSoup object; parse with 'lxml'\n",
    "soup = BeautifulSoup(response.text, 'lxml')"
   ]
  },
  {
   "cell_type": "code",
   "execution_count": 17,
   "metadata": {},
   "outputs": [
    {
     "name": "stdout",
     "output_type": "stream",
     "text": [
      "-----------------\n",
      "Matthews says being named Maple Leafs captain would be 'huge honor'\n",
      "Role has been vacant since 2016; center hopes Marner contract situation gets settled soon\n",
      "2019-08-23\n",
      "11:20am\n",
      "-----------------\n",
      "San Jose Sharks fantasy preview for 2019-20\n",
      "Karlsson, Burns most valuable defensemen; Meier could expand on breakout season with PP1 role after Pavelski's departure\n",
      "2019-08-24\n",
      "00:00am\n",
      "-----------------\n",
      "Guerin has 'full confidence' in Boudreau as Wild coach\n",
      "GM also discusses new job, raising expectations, career influences with NHL.com\n",
      "2019-08-23\n",
      "15:40pm\n",
      "-----------------\n",
      "Subban engaged to skier Vonn\n",
      "Devils defenseman known for flashiness pops question in low-key proposal\n",
      "2019-08-23\n",
      "17:31pm\n",
      "-----------------\n",
      "Fantasy goalie, team win projections for 2019-20\n",
      "Vasilevskiy, Bobrovsky atop list; Binnington can carry over rookie success; standings outlook for each division\n",
      "2019-08-23\n",
      "12:00am\n",
      "-----------------\n",
      "Three questions facing San Jose Sharks\n",
      "Thornton's status, play of Jones among concerns\n",
      "2019-08-24\n",
      "00:00am\n",
      "-----------------\n",
      "Subban says Devils 'have to make the playoffs'\n",
      "Defenseman on way to New Jersey to prepare for training camp\n",
      "2019-08-22\n",
      "23:59pm\n",
      "-----------------\n",
      "Pionk eager to take on bigger role with Jets\n",
      "Defenseman traded from Rangers ready for Winnipeg's fast-paced style\n",
      "2019-08-23\n",
      "13:20pm\n",
      "-----------------\n",
      "NHL Free Agent Tracker\n",
      "Complete list of signings by team, available players\n",
      "2019-08-22\n",
      "13:17pm\n",
      "-----------------\n",
      "Top prospects for San Jose Sharks\n",
      "Gambrell, True could fill open forward spots on NHL roster\n",
      "2019-08-24\n",
      "00:00am\n",
      "-----------------\n",
      "Fantasy forward point projections for 2019-20\n",
      "McDavid, MacKinnon among four 100-point picks; Matthews should score 90 if healthy\n",
      "2019-08-21\n",
      "12:36am\n",
      "-----------------\n",
      "San Jose Sharks key statistics\n",
      "Jones' save percentage must rise, Labanc should improve power-play totals\n",
      "2019-08-24\n",
      "00:00am\n",
      "-----------------\n",
      "Seattle NHL expansion team aiming to name coach offseason before debut\n",
      "Could hire sooner than 2021 if GM Francis targets someone\n",
      "2019-08-22\n",
      "20:32pm\n",
      "-----------------\n",
      "2019-20 NHL Trade Tracker\n",
      "Official deals since June 14\n",
      "2019-08-23\n",
      "17:06pm\n",
      "-----------------\n",
      "Kuznetsov suspended four years by IIHF, will meet with NHL Commissioner\n",
      "Capitals forward tested positive for prohibited substance at World Championships\n",
      "2019-08-23\n",
      "10:39am\n",
      "-----------------\n",
      "Inside look at Pittsburgh Penguins\n",
      "Counting on bounce-back season from Malkin, roster adjustments for another run at Stanley Cup\n",
      "2019-08-23\n",
      "00:00am\n",
      "-----------------\n",
      "Senators won't name captain this season\n",
      "Coach says role will 'emerge in time' after Ottawa went without one in 2018-19\n",
      "2019-08-23\n",
      "12:04am\n",
      "-----------------\n",
      "Top prospects for Pittsburgh Penguins\n",
      "Addison, Joseph on cusp of NHL; Poulin likely to return to QMJHL\n",
      "2019-08-23\n",
      "00:00am\n",
      "-----------------\n",
      "Dahlin says Sabres' playoff drought will end this season: report\n",
      "'We're going to be a winning team,' reach postseason for first time since 2011\n",
      "2019-08-22\n",
      "21:26pm\n",
      "-----------------\n",
      "McAvoy, Carlo contract talks with Bruins remain stalled\n",
      "GM Sweeney says negotiations 'not as fast as everybody would like' with training camp approaching\n",
      "2019-08-23\n",
      "00:02am\n",
      "-----------------\n",
      "Pittsburgh Penguins key statistics\n",
      "Guentzel's points, Murray's save percentage each could increase this season\n",
      "2019-08-23\n",
      "00:00am\n",
      "-----------------\n",
      "Williams, Gardiner, Marleau, Thornton remain unrestricted free agents\n",
      "Hutton, Phaneuf, Ward among those available\n",
      "2019-08-10\n",
      "19:40pm\n",
      "-----------------\n",
      "Laine, Marner, Rantanen among top unsigned restricted free agents\n",
      "Connor, Point, Tkachuk, others waiting for contract or offer sheet\n",
      "2019-08-14\n",
      "21:08pm\n",
      "-----------------\n",
      "2019 NHL Draft first-round pick signings tracker\n",
      "Status of 31 players chosen in opening round in Vancouver\n",
      "2019-08-06\n",
      "13:45pm\n",
      "-----------------\n",
      "NHL Fantasy on Ice podcast available now\n",
      "Season preview episodes: rankings, mock draft, rookies, bounce-backs, coaching changes\n",
      "2019-08-21\n",
      "15:00pm\n",
      "-----------------\n",
      "Fantasy hockey top 250 rankings for 2019-20\n",
      "Panthers have Bobrovsky, Barkov among 20 best; rookies Kakko, Makar join Hughes in first 100; Gusev, Neal added to list\n",
      "2019-08-01\n",
      "13:00pm\n"
     ]
    }
   ],
   "source": [
    "# Retrieve the parent divs for all articles\n",
    "results = soup.find_all('li', class_='mixed-feed__item--article')\n",
    "\n",
    "# Loop through results to retrieve article title, header, and timestamp of article\n",
    "for result in results:\n",
    "    title = result.find('h4', class_='mixed-feed__header').text\n",
    "\n",
    "    lede = result.find('h5', class_='mixed-feed__subheader').text\n",
    "\n",
    "    # The time and date of article publication\n",
    "    date = result.find('time')['datetime']\n",
    "    # Slice the datetime string for the date\n",
    "    article_date = date[:10]\n",
    "    # Slice the datetime string for the time\n",
    "    time = date[11:16]\n",
    "    \n",
    "    # Determine whether article was published in AM or PM\n",
    "    if (int(time[:2]) >= 13):\n",
    "        meridiem = 'pm'\n",
    "    else:\n",
    "        meridiem = 'am'\n",
    "\n",
    "    # Concatenate time string\n",
    "    time = time + meridiem\n",
    "    print('-----------------')\n",
    "    print(title)\n",
    "    print(lede)\n",
    "    print(article_date)\n",
    "    print(time)\n",
    "\n",
    "    # Dictionary to be inserted into MongoDB\n",
    "    post = {\n",
    "        'title': title,\n",
    "        'lede': lede,\n",
    "        'date': article_date,\n",
    "        'time published': time\n",
    "    }\n",
    "\n",
    "    # Insert dictionary into MongoDB as a document\n",
    "    collection.insert_one(post)"
   ]
  },
  {
   "cell_type": "code",
   "execution_count": null,
   "metadata": {
    "collapsed": true,
    "jupyter": {
     "outputs_hidden": true
    }
   },
   "outputs": [],
   "source": [
    "# Display the MongoDB records created above\n",
    "articles = db.articles.find()\n",
    "for article in articles:\n",
    "    print(article)"
   ]
  }
 ],
 "metadata": {
  "kernelspec": {
   "display_name": "Python 3",
   "language": "python",
   "name": "python3"
  },
  "language_info": {
   "codemirror_mode": {
    "name": "ipython",
    "version": 3
   },
   "file_extension": ".py",
   "mimetype": "text/x-python",
   "name": "python",
   "nbconvert_exporter": "python",
   "pygments_lexer": "ipython3",
   "version": "3.7.3"
  },
  "varInspector": {
   "cols": {
    "lenName": 16,
    "lenType": 16,
    "lenVar": 40
   },
   "kernels_config": {
    "python": {
     "delete_cmd_postfix": "",
     "delete_cmd_prefix": "del ",
     "library": "var_list.py",
     "varRefreshCmd": "print(var_dic_list())"
    },
    "r": {
     "delete_cmd_postfix": ") ",
     "delete_cmd_prefix": "rm(",
     "library": "var_list.r",
     "varRefreshCmd": "cat(var_dic_list()) "
    }
   },
   "types_to_exclude": [
    "module",
    "function",
    "builtin_function_or_method",
    "instance",
    "_Feature"
   ],
   "window_display": false
  }
 },
 "nbformat": 4,
 "nbformat_minor": 4
}
