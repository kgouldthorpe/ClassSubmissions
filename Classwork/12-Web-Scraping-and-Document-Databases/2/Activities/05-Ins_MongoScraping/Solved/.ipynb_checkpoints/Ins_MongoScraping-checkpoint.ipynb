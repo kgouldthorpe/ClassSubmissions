{
 "cells": [
  {
   "cell_type": "code",
   "execution_count": 1,
   "metadata": {},
   "outputs": [],
   "source": [
    "# Dependencies\n",
    "from bs4 import BeautifulSoup\n",
    "import requests\n",
    "import pymongo"
   ]
  },
  {
   "cell_type": "code",
   "execution_count": 2,
   "metadata": {},
   "outputs": [],
   "source": [
    "# Initialize PyMongo to work with MongoDBs\n",
    "conn = 'mongodb://localhost:27017'\n",
    "client = pymongo.MongoClient(conn)"
   ]
  },
  {
   "cell_type": "code",
   "execution_count": 3,
   "metadata": {},
   "outputs": [],
   "source": [
    "# Define database and collection\n",
    "db = client.craigslist_db\n",
    "collection = db.items"
   ]
  },
  {
   "cell_type": "code",
   "execution_count": 4,
   "metadata": {},
   "outputs": [],
   "source": [
    "# URL of page to be scraped\n",
    "url = 'https://newjersey.craigslist.org/search/sss?sort=rel&query=guitar'\n",
    "\n",
    "# Retrieve page with the requests module\n",
    "response = requests.get(url)\n",
    "# Create BeautifulSoup object; parse with 'lxml'\n",
    "soup = BeautifulSoup(response.text, 'lxml')"
   ]
  },
  {
   "cell_type": "code",
   "execution_count": 7,
   "metadata": {},
   "outputs": [],
   "source": [
    "# Examine the results, then determine element that contains sought info\n",
    "# results are returned as an iterable list\n",
    "results = soup.find_all('li', class_='result-row')\n",
    "\n",
    "# Loop through returned results\n",
    "for result in results:\n",
    "    # Error handling\n",
    "    try:\n",
    "        # Identify and return title of listing\n",
    "        title = result.find('a', class_='result-title').text\n",
    "        # Identify and return price of listing\n",
    "        price = result.a.span.text\n",
    "        # Identify and return link to listing\n",
    "        link = result.a['href']\n",
    "\n",
    "        # Run only if title, price, and link are available\n",
    "        if (title and price and link):\n",
    "            # Print results\n",
    "            print('-------------')\n",
    "            print(title)\n",
    "            print(price)\n",
    "            print(link)\n",
    "\n",
    "            # Dictionary to be inserted as a MongoDB document\n",
    "            post = {\n",
    "                'title': title,\n",
    "                'price': price,\n",
    "                'url': link\n",
    "            }\n",
    "\n",
    "            collection.insert_one(post)\n",
    "\n",
    "    except Exception as e:\n",
    "        print(e)"
   ]
  },
  {
   "cell_type": "code",
   "execution_count": 6,
   "metadata": {},
   "outputs": [
    {
     "name": "stdout",
     "output_type": "stream",
     "text": [
      "{'_id': ObjectId('5d61694f415f08a530ec98de'), 'title': '1964 Pre CBS Fender Jaguar Guitar', 'price': '$5500', 'url': 'https://newjersey.craigslist.org/msg/d/cedar-grove-1964-pre-cbs-fender-jaguar/6963675685.html'}\n",
      "{'_id': ObjectId('5d616950415f08a530ec98df'), 'title': 'Fender Rumble 15 Guitar Amp', 'price': '$40', 'url': 'https://newjersey.craigslist.org/msg/d/verona-fender-rumble-15-guitar-amp/6948117934.html'}\n",
      "{'_id': ObjectId('5d616950415f08a530ec98e0'), 'title': 'Silvertone Smart IIIs Guitar Amplifier', 'price': '$20', 'url': 'https://newjersey.craigslist.org/msg/d/verona-silvertone-smart-iiis-guitar/6948123582.html'}\n",
      "{'_id': ObjectId('5d616950415f08a530ec98e1'), 'title': 'Vintage Ibanez Vintage Electric Guitar', 'price': '$700', 'url': 'https://newjersey.craigslist.org/for/d/dover-vintage-ibanez-vintage-electric/6963655532.html'}\n",
      "{'_id': ObjectId('5d616950415f08a530ec98e2'), 'title': 'Crate G 212 guitar amplifier excellent condition', 'price': '$325', 'url': 'https://newjersey.craigslist.org/ele/d/pine-brook-crate-212-guitar-amplifier/6948367421.html'}\n",
      "{'_id': ObjectId('5d616950415f08a530ec98e3'), 'title': 'GUITAR WORLD MAGAZINES...140 FOR $80...NICE', 'price': '$80', 'url': 'https://newjersey.craigslist.org/bks/d/garwood-guitar-world-magazines140-for/6948559434.html'}\n",
      "{'_id': ObjectId('5d616950415f08a530ec98e4'), 'title': 'Tacoma Olympia Acoustic Guitar (2 available)', 'price': '$125', 'url': 'https://newjersey.craigslist.org/msg/d/oak-ridge-tacoma-olympia-acoustic/6960790961.html'}\n",
      "{'_id': ObjectId('5d616950415f08a530ec98e5'), 'title': 'First Act 6 String Acoustic Guitar & Stand', 'price': '$15', 'url': 'https://newjersey.craigslist.org/for/d/oak-ridge-first-act-6-string-acoustic/6960792144.html'}\n",
      "{'_id': ObjectId('5d616950415f08a530ec98e6'), 'title': 'BURSWOOD ELECTRIC GUITAR AND PROTECTIVE CASE', 'price': '$99', 'url': 'https://newjersey.craigslist.org/msg/d/wayne-burswood-electric-guitar-and/6950700912.html'}\n",
      "{'_id': ObjectId('5d616950415f08a530ec98e7'), 'title': 'Vintage Ovation Matrix 1132-1, Acoustic/Electric Guitar', 'price': '$400', 'url': 'https://newjersey.craigslist.org/msg/d/succasunna-vintage-ovation-matrix/6963511791.html'}\n",
      "{'_id': ObjectId('5d616950415f08a530ec98e8'), 'title': 'Yamaha FX335C Acoustic Electric Guitar w/ Case! (+ VIDEO)', 'price': '$170', 'url': 'https://newjersey.craigslist.org/msg/d/west-orange-yamaha-fx335c-acoustic/6961777517.html'}\n",
      "{'_id': ObjectId('5d616950415f08a530ec98e9'), 'title': 'Led zeppelin signed guitar', 'price': '$18000', 'url': 'https://newjersey.craigslist.org/clt/d/wilmington-led-zeppelin-signed-guitar/6960388396.html'}\n",
      "{'_id': ObjectId('5d616950415f08a530ec98ea'), 'title': 'USA Taylor 214 Acoustic Guitar + Hardshell Case (REDUCED)', 'price': '$500', 'url': 'https://newjersey.craigslist.org/msg/d/totowa-usa-taylor-214-acoustic-guitar/6952325108.html'}\n",
      "{'_id': ObjectId('5d616950415f08a530ec98eb'), 'title': 'Black Ibanez acoustic guitar', 'price': '$125', 'url': 'https://newjersey.craigslist.org/msg/d/clifton-black-ibanez-acoustic-guitar/6949504333.html'}\n",
      "{'_id': ObjectId('5d616950415f08a530ec98ec'), 'title': 'GUITAR HERO /w GUITAR Game Boy ADVANCE', 'price': '$15', 'url': 'https://newjersey.craigslist.org/vgm/d/paterson-guitar-hero-guitar-game-boy/6960401503.html'}\n",
      "{'_id': ObjectId('5d616950415f08a530ec98ed'), 'title': 'Vintage and boutique guitar pedals', 'price': '$120', 'url': 'https://newjersey.craigslist.org/msg/d/jersey-city-vintage-and-boutique-guitar/6963398762.html'}\n",
      "{'_id': ObjectId('5d616950415f08a530ec98ee'), 'title': 'Brazilian Made Guitar', 'price': '$40', 'url': 'https://newjersey.craigslist.org/msg/d/teaneck-brazilian-made-guitar/6943404551.html'}\n",
      "{'_id': ObjectId('5d616950415f08a530ec98ef'), 'title': 'Marshall AS100D 100 WATT 4-Channel Acoustic Guitar Amplifier', 'price': '$600', 'url': 'https://newjersey.craigslist.org/ele/d/washington-marshall-as100d-100-watt-4/6963322750.html'}\n",
      "{'_id': ObjectId('5d616950415f08a530ec98f0'), 'title': 'Guitar- 1979 Kramer DMZ 6000-G - excellent+, w/case', 'price': '$1400', 'url': 'https://newjersey.craigslist.org/msg/d/suffern-guitar-kramer-dmz-excellent-case/6961760077.html'}\n",
      "{'_id': ObjectId('5d616950415f08a530ec98f1'), 'title': 'On Stage 5 Guitar Stand like new', 'price': '$40', 'url': 'https://newjersey.craigslist.org/msg/d/highland-lakes-on-stage-5-guitar-stand/6948626382.html'}\n",
      "{'_id': ObjectId('5d616950415f08a530ec98f2'), 'title': 'Mini guitar', 'price': '$45', 'url': 'https://newjersey.craigslist.org/msg/d/hasbrouck-heights-mini-guitar/6963271244.html'}\n",
      "{'_id': ObjectId('5d616950415f08a530ec98f3'), 'title': 'Guitar Hero Explorer X-plorer controller Xbox 360 usb for pc', 'price': '$50', 'url': 'https://newjersey.craigslist.org/vgm/d/lodi-guitar-hero-explorer-plorer/6963198599.html'}\n",
      "{'_id': ObjectId('5d616950415f08a530ec98f4'), 'title': \"Beginner's Acoustic Guitar and Electric Piano For Sale\", 'price': '$250', 'url': 'https://newjersey.craigslist.org/msg/d/little-falls-beginners-acoustic-guitar/6963096835.html'}\n",
      "{'_id': ObjectId('5d616950415f08a530ec98f5'), 'title': 'Fernandes Nomad Portable Guitar/Amp', 'price': '$350', 'url': 'https://newjersey.craigslist.org/msg/d/maplewood-fernandes-nomad-portable/6962941713.html'}\n",
      "{'_id': ObjectId('5d616950415f08a530ec98f6'), 'title': 'Vintage Ibanez Vintage Electric Guitar', 'price': '$700', 'url': 'https://newjersey.craigslist.org/msg/d/vintage-ibanez-vintage-electric-guitar/6958561391.html'}\n",
      "{'_id': ObjectId('5d616950415f08a530ec98f7'), 'title': '2003 Squier Showmaster guitar', 'price': '$150', 'url': 'https://newjersey.craigslist.org/msg/d/hamburg-2003-squier-showmaster-guitar/6956498334.html'}\n",
      "{'_id': ObjectId('5d616950415f08a530ec98f8'), 'title': 'De Armond Jet Star guitar', 'price': '$350', 'url': 'https://newjersey.craigslist.org/msg/d/hamburg-de-armond-jet-star-guitar/6956498975.html'}\n",
      "{'_id': ObjectId('5d616950415f08a530ec98f9'), 'title': '2018 Hagstrom Fantomen Guitar', 'price': '$700', 'url': 'https://newjersey.craigslist.org/msg/d/denville-2018-hagstrom-fantomen-guitar/6947127688.html'}\n",
      "{'_id': ObjectId('5d616950415f08a530ec98fa'), 'title': 'Steinberger Spirit Guitar (lefty)(CASH ONLY)', 'price': '$295', 'url': 'https://newjersey.craigslist.org/msg/d/chester-steinberger-spirit-guitar/6956734533.html'}\n",
      "{'_id': ObjectId('5d616950415f08a530ec98fb'), 'title': 'Guitar stand', 'price': '$5', 'url': 'https://newjersey.craigslist.org/msg/d/pequannock-guitar-stand/6956800573.html'}\n",
      "{'_id': ObjectId('5d616950415f08a530ec98fc'), 'title': 'yamaha acoustic guitar fg 441s', 'price': '$275', 'url': 'https://newjersey.craigslist.org/msg/d/wayne-yamaha-acoustic-guitar-fg-441s/6941814585.html'}\n",
      "{'_id': ObjectId('5d616950415f08a530ec98fd'), 'title': 'LTD BASS GUITAR ESP PICKUPS', 'price': '$275', 'url': 'https://newjersey.craigslist.org/msg/d/wayne-ltd-bass-guitar-esp-pickups/6962766632.html'}\n",
      "{'_id': ObjectId('5d616950415f08a530ec98fe'), 'title': 'VINTAGE KAY K2 SG STYLE GUITAR', 'price': '$175', 'url': 'https://newjersey.craigslist.org/msg/d/wayne-vintage-kay-k2-sg-style-guitar/6941812902.html'}\n",
      "{'_id': ObjectId('5d616950415f08a530ec98ff'), 'title': 'ALVAREZ JUMBO ACOUSTIC ELECTIC GUITAR', 'price': '$250', 'url': 'https://newjersey.craigslist.org/msg/d/wayne-alvarez-jumbo-acoustic-electic/6954325216.html'}\n",
      "{'_id': ObjectId('5d616950415f08a530ec9900'), 'title': \"VINTAGE 1960'S ARIA CLASSICAL GUITAR\", 'price': '$500', 'url': 'https://newjersey.craigslist.org/msg/d/vintage-1960s-aria-classical-guitar/6955542172.html'}\n",
      "{'_id': ObjectId('5d616950415f08a530ec9901'), 'title': 'WTB-ISO Vintage Dean Guitar', 'price': '$1', 'url': 'https://newjersey.craigslist.org/msg/d/haskell-wtb-iso-vintage-dean-guitar/6956160070.html'}\n",
      "{'_id': ObjectId('5d616950415f08a530ec9902'), 'title': 'Yamaha CGS102A Half-Size Classical Guitar – Natural – Great Condition', 'price': '$75', 'url': 'https://newjersey.craigslist.org/msg/d/warren-yamaha-cgs102a-half-size/6962602755.html'}\n",
      "{'_id': ObjectId('5d616950415f08a530ec9903'), 'title': 'Strat style guitar', 'price': '$100', 'url': 'https://newjersey.craigslist.org/msg/d/hackensack-strat-style-guitar/6958206620.html'}\n",
      "{'_id': ObjectId('5d616950415f08a530ec9904'), 'title': 'Ibanez V70CE Acoustic Electric Guitar (+ VIDEO)!', 'price': '$125', 'url': 'https://newjersey.craigslist.org/msg/d/west-orange-ibanez-v70ce-acoustic/6962503845.html'}\n",
      "{'_id': ObjectId('5d616950415f08a530ec9905'), 'title': 'T-Rex Engineering Fat Shuga Boost with Reverb Guitar Effects Pedal!', 'price': '$75', 'url': 'https://newjersey.craigslist.org/msg/d/west-orange-rex-engineering-fat-shuga/6953314325.html'}\n",
      "{'_id': ObjectId('5d616950415f08a530ec9906'), 'title': '65-67 Fender String Master D8 steel guitar', 'price': '$1600', 'url': 'https://newjersey.craigslist.org/msg/d/franklin-lakes-fender-string-master-d8/6962427076.html'}\n",
      "{'_id': ObjectId('5d616950415f08a530ec9907'), 'title': 'Fender Bassman 25 Guitar Amp - Many Features - Works and Looks Good', 'price': '$85', 'url': 'https://newjersey.craigslist.org/msg/d/bloomfield-fender-bassman-25-guitar-amp/6955472248.html'}\n",
      "{'_id': ObjectId('5d616950415f08a530ec9908'), 'title': 'Martin \"Little Martin\" LXM series Acoustic Guitar MINTY w/ accessories', 'price': '$285', 'url': 'https://newjersey.craigslist.org/msg/d/rutherford-martin-little-martin-lxm/6958033370.html'}\n",
      "{'_id': ObjectId('5d616950415f08a530ec9909'), 'title': 'Guitar Bass Amplifier Hartke Half Stack', 'price': '$425', 'url': 'https://newjersey.craigslist.org/msg/d/new-city-guitar-bass-amplifier-hartke/6957989856.html'}\n",
      "{'_id': ObjectId('5d616950415f08a530ec990a'), 'title': 'DAVID GILMOUR GUITAR COLLECTION CHRISTIES CATALOG AND BAG', 'price': '$80', 'url': 'https://newjersey.craigslist.org/clt/d/cliffside-park-david-gilmour-guitar/6958552225.html'}\n",
      "{'_id': ObjectId('5d616950415f08a530ec990b'), 'title': 'Yamaha 12-String Acoustic Guitar Model FG-312 II', 'price': '$400', 'url': 'https://newjersey.craigslist.org/msg/d/clifton-yamaha-12-string-acoustic/6941243657.html'}\n",
      "{'_id': ObjectId('5d616950415f08a530ec990c'), 'title': '1975 MSA Pedal Steel Guitar Peavey Nashville 400 & Seat', 'price': '$2150', 'url': 'https://newjersey.craigslist.org/msg/d/stroudsburg-1975-msa-pedal-steel-guitar/6946269714.html'}\n",
      "{'_id': ObjectId('5d616950415f08a530ec990d'), 'title': 'Martin Guitar GPC-11E Road Series', 'price': '$950', 'url': 'https://newjersey.craigslist.org/msg/d/long-valley-martin-guitar-gpc-11e-road/6944052868.html'}\n",
      "{'_id': ObjectId('5d616950415f08a530ec990e'), 'title': \"Ovation Adamas 2008 Collector's Edition Acoustic-Electric Guitar\", 'price': '$7000', 'url': 'https://newjersey.craigslist.org/msg/d/sussex-ovation-adamas-2008-collectors/6960293022.html'}\n",
      "{'_id': ObjectId('5d616950415f08a530ec990f'), 'title': 'Ovation C2079 LX Series Custom Legend Acoustic Electric Guitar', 'price': '$1100', 'url': 'https://newjersey.craigslist.org/msg/d/sussex-ovation-c2079-lx-series-custom/6960293789.html'}\n",
      "{'_id': ObjectId('5d616950415f08a530ec9910'), 'title': 'Line 6 Verbzilla (reverb guitar effects pedal)', 'price': '$65', 'url': 'https://newjersey.craigslist.org/msg/d/vernon-line-6-verbzilla-reverb-guitar/6941756593.html'}\n",
      "{'_id': ObjectId('5d616950415f08a530ec9911'), 'title': 'Guitar Ovation Celebrity Acoustic/Electric CC28 - like new w/hard case', 'price': '$399', 'url': 'https://newjersey.craigslist.org/msg/d/hewitt-guitar-ovation-celebrity/6956067835.html'}\n",
      "{'_id': ObjectId('5d616950415f08a530ec9912'), 'title': 'Acoustic Guitar - Fender - GREAT QUALITY', 'price': '$85', 'url': 'https://newjersey.craigslist.org/msg/d/cedar-grove-acoustic-guitar-fender/6961941897.html'}\n",
      "{'_id': ObjectId('5d616950415f08a530ec9913'), 'title': 'Acoustic Guitar - Ibanez - GREAT QUALITY', 'price': '$85', 'url': 'https://newjersey.craigslist.org/msg/d/cedar-grove-acoustic-guitar-ibanez/6961942659.html'}\n",
      "{'_id': ObjectId('5d616950415f08a530ec9914'), 'title': '2004 Blue Squire Fender Strat Guitar', 'price': '$140', 'url': 'https://newjersey.craigslist.org/msg/d/west-milford-2004-blue-squire-fender/6942547287.html'}\n",
      "{'_id': ObjectId('5d616950415f08a530ec9915'), 'title': \"Unbranded 1960's  Electric Guitar Korean\", 'price': '$250', 'url': 'https://newjersey.craigslist.org/msg/d/west-milford-unbranded-1960s-electric/6942547527.html'}\n",
      "{'_id': ObjectId('5d616950415f08a530ec9916'), 'title': 'Behringer Strat style guitar', 'price': '$150', 'url': 'https://newjersey.craigslist.org/msg/d/west-milford-behringer-strat-style/6942547587.html'}\n",
      "{'_id': ObjectId('5d616950415f08a530ec9917'), 'title': '1968 Harmony Bobcat H15 Guitar', 'price': '$475', 'url': 'https://newjersey.craigslist.org/msg/d/west-milford-1968-harmony-bobcat-h15/6942549960.html'}\n",
      "{'_id': ObjectId('5d616950415f08a530ec9918'), 'title': 'Ibanez SR300DX Soundgear Bass Guitar w/ Case', 'price': '$175', 'url': 'https://newjersey.craigslist.org/msg/d/wayne-ibanez-sr300dx-soundgear-bass/6961805662.html'}\n",
      "{'_id': ObjectId('5d616950415f08a530ec9919'), 'title': 'Hard shell guitar case', 'price': '$50', 'url': 'https://newjersey.craigslist.org/msg/d/montclair-hard-shell-guitar-case/6961785463.html'}\n",
      "{'_id': ObjectId('5d616950415f08a530ec991a'), 'title': 'Peavey 6505+ 112 60W 1x12\" Tube Combo Guitar Amp', 'price': '$450', 'url': 'https://newjersey.craigslist.org/msg/d/wayne-peavey-w-1x12-tube-combo-guitar/6961783913.html'}\n",
      "{'_id': ObjectId('5d616950415f08a530ec991b'), 'title': 'Line 6 Spider III 30 30W 1x12 Guitar Combo Amp', 'price': '$40', 'url': 'https://newjersey.craigslist.org/msg/d/wayne-line-6-spider-iii-30-30w-1x12/6961776112.html'}\n",
      "{'_id': ObjectId('5d616950415f08a530ec991c'), 'title': 'Acoustic Electric Guitar', 'price': '$150', 'url': 'https://newjersey.craigslist.org/msg/d/montclair-acoustic-electric-guitar/6961771700.html'}\n",
      "{'_id': ObjectId('5d616950415f08a530ec991d'), 'title': 'Padded Guitar Stool', 'price': '$45', 'url': 'https://newjersey.craigslist.org/for/d/montclair-padded-guitar-stool/6961761084.html'}\n",
      "{'_id': ObjectId('5d616950415f08a530ec991e'), 'title': 'Triple Guitar Stand - D&A Hydra Quick-Folding 6-Legged', 'price': '$100', 'url': 'https://newjersey.craigslist.org/msg/d/sussex-triple-guitar-stand-da-hydra/6961648066.html'}\n",
      "{'_id': ObjectId('5d616950415f08a530ec991f'), 'title': 'Line 6 Spider II 2x10 120W Guitar Combo Amp', 'price': '$225', 'url': 'https://newjersey.craigslist.org/ele/d/kenvil-line-6-spider-ii-2x10-120w/6961621915.html'}\n",
      "{'_id': ObjectId('5d616950415f08a530ec9920'), 'title': 'Gibson Epiphone Les Paul Special II cherry sunburst guitar', 'price': '$200', 'url': 'https://newjersey.craigslist.org/msg/d/parsippany-gibson-epiphone-les-paul/6959019897.html'}\n",
      "{'_id': ObjectId('5d616950415f08a530ec9921'), 'title': 'Vintage Ovation Matrix 1132-1, Acoustic/Electric Guitar', 'price': '$400', 'url': 'https://newjersey.craigslist.org/msg/d/succasunna-vintage-ovation-matrix/6961459277.html'}\n",
      "{'_id': ObjectId('5d616950415f08a530ec9922'), 'title': 'Red Octane Wireless White Guitar Hero Controller Playstation 2 PS2 *NO', 'price': '$30', 'url': 'https://newjersey.craigslist.org/vgm/d/bloomfield-red-octane-wireless-white/6961448566.html'}\n",
      "{'_id': ObjectId('5d616950415f08a530ec9923'), 'title': 'Pacifica Guitar LIKE NEW USED', 'price': '$75', 'url': 'https://newjersey.craigslist.org/msg/d/wayne-pacifica-guitar-like-new-used/6961441554.html'}\n",
      "{'_id': ObjectId('5d616950415f08a530ec9924'), 'title': 'Carvin DC127 electric guitar', 'price': '$725', 'url': 'https://newjersey.craigslist.org/msg/d/little-falls-carvin-dc127-electric/6961419006.html'}\n",
      "{'_id': ObjectId('5d616950415f08a530ec9925'), 'title': 'Guitar / Keyboard Speaker Cabinet', 'price': '$20', 'url': 'https://newjersey.craigslist.org/msg/d/vernon-guitar-keyboard-speaker-cabinet/6961391877.html'}\n",
      "{'_id': ObjectId('5d616950415f08a530ec9926'), 'title': 'Guitar - Carlos (Acoustic)', 'price': '$70', 'url': 'https://newjersey.craigslist.org/msg/d/ramsey-guitar-carlos-acoustic/6961367374.html'}\n",
      "{'_id': ObjectId('5d616950415f08a530ec9927'), 'title': 'Ibanez Tbx30r Solid State Guitar Amp', 'price': '$50', 'url': 'https://newjersey.craigslist.org/ele/d/rutherford-ibanez-tbx30r-solid-state/6961228461.html'}\n",
      "{'_id': ObjectId('5d616950415f08a530ec9928'), 'title': 'Peavey Vypyr VIP 1 1x8 Guitar Combo Amp', 'price': '$80', 'url': 'https://newjersey.craigslist.org/msg/d/boonton-peavey-vypyr-vip-1-1x8-guitar/6940982141.html'}\n",
      "{'_id': ObjectId('5d616950415f08a530ec9929'), 'title': 'Jackson GJ2 rare electric guitar', 'price': '$1400', 'url': 'https://newjersey.craigslist.org/msg/d/wallkill-jackson-gj2-rare-electric/6961216602.html'}\n",
      "{'_id': ObjectId('5d616950415f08a530ec992a'), 'title': 'squire electric guitar', 'price': '$80', 'url': 'https://newjersey.craigslist.org/msg/d/rutherford-squire-electric-guitar/6961211286.html'}\n",
      "{'_id': ObjectId('5d616950415f08a530ec992b'), 'title': 'fender guitar road-worn', 'price': '$145', 'url': 'https://newjersey.craigslist.org/msg/d/somers-fender-guitar-road-worn/6940863470.html'}\n",
      "{'_id': ObjectId('5d616950415f08a530ec992c'), 'title': 'Acoustic guitar', 'price': '$350', 'url': 'https://newjersey.craigslist.org/msg/d/hackettstown-acoustic-guitar/6960887139.html'}\n",
      "{'_id': ObjectId('5d616950415f08a530ec992d'), 'title': 'Vintage Ibanez Vintage Electric Guitar', 'price': '$700', 'url': 'https://newjersey.craigslist.org/msg/d/dover-vintage-ibanez-vintage-electric/6960860101.html'}\n",
      "{'_id': ObjectId('5d616950415f08a530ec992e'), 'title': 'ZOOM GFX-8 Guitar effects processor pedal - EXCELLENT cond. box & man.', 'price': '$325', 'url': 'https://newjersey.craigslist.org/msg/d/bloomingdale-zoom-gfx-8-guitar-effects/6944100730.html'}\n",
      "{'_id': ObjectId('5d616950415f08a530ec992f'), 'title': 'First Act 6 String Acoustic Guitar & Stand', 'price': '$15', 'url': 'https://newjersey.craigslist.org/for/d/oak-ridge-first-act-6-string-acoustic/6960791326.html'}\n",
      "{'_id': ObjectId('5d616950415f08a530ec9930'), 'title': 'Eastwood Sidejack Baritone Guitar', 'price': '$350', 'url': 'https://newjersey.craigslist.org/msg/d/jersey-city-eastwood-sidejack-baritone/6946948267.html'}\n",
      "{'_id': ObjectId('5d616950415f08a530ec9931'), 'title': '1980 Aria ProII Bass Guitar', 'price': '$300', 'url': 'https://newjersey.craigslist.org/msg/d/haskell-1980-aria-proii-bass-guitar/6960362438.html'}\n",
      "{'_id': ObjectId('5d616950415f08a530ec9932'), 'title': 'GIBSON BANNER LG 2 GUITAR', 'price': '$3750', 'url': 'https://newjersey.craigslist.org/msg/d/warwick-gibson-banner-lg-2-guitar/6960273643.html'}\n",
      "{'_id': ObjectId('5d616950415f08a530ec9933'), 'title': 'PAYING CASH! MARSHALL TUBE GUITAR AMPLIFIER HEADS CABINETS SPEAKERS -', 'price': '$0', 'url': 'https://newjersey.craigslist.org/wan/d/milford-paying-cash-marshall-tube/6950513582.html'}\n",
      "{'_id': ObjectId('5d616950415f08a530ec9934'), 'title': 'EASTMAN E-10 PARLOR GUITAR', 'price': '$650', 'url': 'https://newjersey.craigslist.org/msg/d/new-windsor-eastman-10-parlor-guitar/6960160223.html'}\n",
      "{'_id': ObjectId('5d616950415f08a530ec9935'), 'title': 'Yamaha FG800 Acoustic Guitar', 'price': '$100', 'url': 'https://newjersey.craigslist.org/msg/d/caldwell-yamaha-fg800-acoustic-guitar/6960130804.html'}\n",
      "{'_id': ObjectId('5d616950415f08a530ec9936'), 'title': 'VINTAGE 12\" Guitar Speaker', 'price': '$25', 'url': 'https://newjersey.craigslist.org/msg/d/mahwah-vintage-12-guitar-speaker/6949876978.html'}\n",
      "{'_id': ObjectId('5d616950415f08a530ec9937'), 'title': 'Alvaez grateful dead 50th anniversary acoustic guitar excellent condition used', 'price': '$300', 'url': 'https://newjersey.craigslist.org/msg/d/hopatcong-alvaez-grateful-dead-50th/6944422437.html'}\n",
      "{'_id': ObjectId('5d616950415f08a530ec9938'), 'title': 'Ibanez classical guitar', 'price': '$120', 'url': 'https://newjersey.craigslist.org/msg/d/hopatcong-ibanez-classical-guitar/6952731142.html'}\n",
      "{'_id': ObjectId('5d616950415f08a530ec9939'), 'title': 'Vintage Ampex Cabinets for guitar amp project', 'price': '$50', 'url': 'https://newjersey.craigslist.org/msg/d/boonton-vintage-ampex-cabinets-for/6956760653.html'}\n",
      "{'_id': ObjectId('5d616950415f08a530ec993a'), 'title': 'Custom Weissenborn Style Acoustic Steel Guitar', 'price': '$525', 'url': 'https://newjersey.craigslist.org/msg/d/newton-custom-weissenborn-style/6959887317.html'}\n",
      "{'_id': ObjectId('5d616950415f08a530ec993b'), 'title': 'New Never used Ibanez Jam pack acoustic Guitar', 'price': '$100', 'url': 'https://newjersey.craigslist.org/msg/d/hackensack-new-never-used-ibanez-jam/6959859152.html'}\n",
      "{'_id': ObjectId('5d616950415f08a530ec993c'), 'title': 'Fernandes FR-65 guitar neck body', 'price': '$215', 'url': 'https://newjersey.craigslist.org/msg/d/manville-fernandes-fr-65-guitar-neck/6959797489.html'}\n",
      "{'_id': ObjectId('5d616950415f08a530ec993d'), 'title': 'Rocktron Guitar Silencer Noise Reduction Guitar Effects Pedal Hush Gate', 'price': '$90', 'url': 'https://newjersey.craigslist.org/msg/d/emerson-rocktron-guitar-silencer-noise/6959750747.html'}\n",
      "{'_id': ObjectId('5d616950415f08a530ec993e'), 'title': 'Way Huge ANGRY TROLL guitar boost amplifier pedal effect overdrive', 'price': '$70', 'url': 'https://newjersey.craigslist.org/msg/d/way-huge-angry-troll-guitar-boost/6959750631.html'}\n",
      "{'_id': ObjectId('5d616950415f08a530ec993f'), 'title': 'Ernie Ball/Music Man StingRay guitar', 'price': '$1250', 'url': 'https://newjersey.craigslist.org/msg/d/ridgewood-ernie-ball-music-man-stingray/6953608892.html'}\n",
      "{'_id': ObjectId('5d616950415f08a530ec9940'), 'title': 'Guitar hard case', 'price': '$55', 'url': 'https://newjersey.craigslist.org/msg/d/pompton-lakes-guitar-hard-case/6959602433.html'}\n",
      "{'_id': ObjectId('5d616950415f08a530ec9941'), 'title': 'Guitar hard case for sale', 'price': '$50', 'url': 'https://newjersey.craigslist.org/msg/d/pompton-lakes-guitar-hard-case-for-sale/6959599540.html'}\n",
      "{'_id': ObjectId('5d616950415f08a530ec9942'), 'title': \"Fender Classic Series 60's Stratocaster 1999 Blue Electric Guitar\", 'price': '$525', 'url': 'https://newjersey.craigslist.org/msg/d/millburn-fender-classic-series-60s/6959546085.html'}\n",
      "{'_id': ObjectId('5d616950415f08a530ec9943'), 'title': 'Brand new Guitar gig bag', 'price': '$15', 'url': 'https://newjersey.craigslist.org/msg/d/lake-hiawatha-brand-new-guitar-gig-bag/6953677884.html'}\n",
      "{'_id': ObjectId('5d616950415f08a530ec9944'), 'title': 'Electric guitar gig bag', 'price': '$15', 'url': 'https://newjersey.craigslist.org/msg/d/lake-hiawatha-electric-guitar-gig-bag/6953682241.html'}\n",
      "{'_id': ObjectId('5d616950415f08a530ec9945'), 'title': 'Yamaha 6 string electric guitar', 'price': '$100', 'url': 'https://newjersey.craigslist.org/msg/d/ridgefield-park-yamaha-6-string/6944470534.html'}\n",
      "{'_id': ObjectId('5d616950415f08a530ec9946'), 'title': '1 Carlo Robelli JD108 electric guitar', 'price': '$100', 'url': 'https://newjersey.craigslist.org/msg/d/jersey-city-1-carlo-robelli-jd108/6955784267.html'}\n",
      "{'_id': ObjectId('5d616950415f08a530ec9947'), 'title': 'Rock Band 3 PS3 Fender Mustang Wireless Guitar Controller', 'price': '$25', 'url': 'https://newjersey.craigslist.org/vgm/d/stanhope-rock-band-3-ps3-fender-mustang/6959287269.html'}\n",
      "{'_id': ObjectId('5d616950415f08a530ec9948'), 'title': \"Kid's Electric Toy Guitar\", 'price': '$10', 'url': 'https://newjersey.craigslist.org/msg/d/river-edge-kids-electric-toy-guitar/6959026329.html'}\n",
      "{'_id': ObjectId('5d616950415f08a530ec9949'), 'title': 'Aluminum Bass Guitar Case', 'price': '$35', 'url': 'https://newjersey.craigslist.org/msg/d/west-orange-aluminum-bass-guitar-case/6939196428.html'}\n",
      "{'_id': ObjectId('5d616950415f08a530ec994a'), 'title': 'Vintage GIBSON S-1 Electric Guitar', 'price': '$1350', 'url': 'https://newjersey.craigslist.org/msg/d/wayne-vintage-gibson-1-electric-guitar/6958840967.html'}\n",
      "{'_id': ObjectId('5d616950415f08a530ec994b'), 'title': 'ESP LTD-400 Guitar', 'price': '$375', 'url': 'https://newjersey.craigslist.org/msg/d/montclair-esp-ltd-400-guitar/6958829080.html'}\n",
      "{'_id': ObjectId('5d616950415f08a530ec994c'), 'title': 'Ibanez Guitar Bundle (PRICE IS NEGOTIABLE)', 'price': '$60', 'url': 'https://newjersey.craigslist.org/msg/d/jersey-city-ibanez-guitar-bundle-price/6958710015.html'}\n",
      "{'_id': ObjectId('5d616950415f08a530ec994d'), 'title': 'Motley Crue signed guitar', 'price': '$1750', 'url': 'https://newjersey.craigslist.org/msg/d/wallington-motley-crue-signed-guitar/6958695374.html'}\n",
      "{'_id': ObjectId('5d616950415f08a530ec994e'), 'title': 'Ibanez Guitar Bundle (PRICE IS NEGOTIABLE)', 'price': '$100', 'url': 'https://newjersey.craigslist.org/msg/d/jersey-city-ibanez-guitar-bundle-price/6958630413.html'}\n"
     ]
    }
   ],
   "source": [
    "# Display items in MongoDB collection\n",
    "listings = db.items.find()\n",
    "\n",
    "for listing in listings:\n",
    "    print(listing)"
   ]
  },
  {
   "cell_type": "code",
   "execution_count": null,
   "metadata": {},
   "outputs": [],
   "source": []
  }
 ],
 "metadata": {
  "kernelspec": {
   "display_name": "Python 3",
   "language": "python",
   "name": "python3"
  },
  "language_info": {
   "codemirror_mode": {
    "name": "ipython",
    "version": 3
   },
   "file_extension": ".py",
   "mimetype": "text/x-python",
   "name": "python",
   "nbconvert_exporter": "python",
   "pygments_lexer": "ipython3",
   "version": "3.7.3"
  },
  "varInspector": {
   "cols": {
    "lenName": 16,
    "lenType": 16,
    "lenVar": 40
   },
   "kernels_config": {
    "python": {
     "delete_cmd_postfix": "",
     "delete_cmd_prefix": "del ",
     "library": "var_list.py",
     "varRefreshCmd": "print(var_dic_list())"
    },
    "r": {
     "delete_cmd_postfix": ") ",
     "delete_cmd_prefix": "rm(",
     "library": "var_list.r",
     "varRefreshCmd": "cat(var_dic_list()) "
    }
   },
   "types_to_exclude": [
    "module",
    "function",
    "builtin_function_or_method",
    "instance",
    "_Feature"
   ],
   "window_display": false
  }
 },
 "nbformat": 4,
 "nbformat_minor": 4
}
