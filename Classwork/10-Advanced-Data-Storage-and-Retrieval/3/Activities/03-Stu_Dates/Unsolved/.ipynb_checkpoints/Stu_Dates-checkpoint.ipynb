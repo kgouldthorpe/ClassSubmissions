{
 "cells": [
  {
   "cell_type": "markdown",
   "metadata": {
    "slideshow": {
     "slide_type": "slide"
    }
   },
   "source": [
    "# SQLAlchemy, Sqlite, and Dates"
   ]
  },
  {
   "cell_type": "markdown",
   "metadata": {
    "slideshow": {
     "slide_type": "slide"
    }
   },
   "source": [
    "## Setup"
   ]
  },
  {
   "cell_type": "code",
   "execution_count": 6,
   "metadata": {},
   "outputs": [],
   "source": [
    "import matplotlib\n",
    "from matplotlib import style\n",
    "style.use('fivethirtyeight')\n",
    "import matplotlib.pyplot as plt"
   ]
  },
  {
   "cell_type": "code",
   "execution_count": 7,
   "metadata": {},
   "outputs": [],
   "source": [
    "import pandas as pd"
   ]
  },
  {
   "cell_type": "code",
   "execution_count": 8,
   "metadata": {
    "slideshow": {
     "slide_type": "subslide"
    }
   },
   "outputs": [],
   "source": [
    "# Python SQL toolkit and Object Relational Mapper\n",
    "import sqlalchemy\n",
    "from sqlalchemy.ext.automap import automap_base\n",
    "from sqlalchemy.orm import Session\n",
    "from sqlalchemy import create_engine, inspect, func"
   ]
  },
  {
   "cell_type": "code",
   "execution_count": 9,
   "metadata": {
    "slideshow": {
     "slide_type": "subslide"
    }
   },
   "outputs": [],
   "source": [
    "engine = create_engine(\"sqlite:///../Resources/dow.sqlite\", echo=False)"
   ]
  },
  {
   "cell_type": "code",
   "execution_count": 10,
   "metadata": {
    "slideshow": {
     "slide_type": "subslide"
    }
   },
   "outputs": [
    {
     "data": {
      "text/plain": [
       "[(1, 1, 'AA', '2011-01-07', 15.82, 16.72, 15.78, 16.42, 239655616, None),\n",
       " (2, 1, 'AA', '2011-01-14', 16.71, 16.71, 15.64, 15.97, 242963398, None),\n",
       " (3, 1, 'AA', '2011-01-21', 16.19, 16.38, 15.6, 15.79, 138428495, None),\n",
       " (4, 1, 'AA', '2011-01-28', 15.87, 16.63, 15.82, 16.13, 151379173, None),\n",
       " (5, 1, 'AA', '2011-02-04', 16.18, 17.39, 16.18, 17.14, 154387761, None)]"
      ]
     },
     "execution_count": 10,
     "metadata": {},
     "output_type": "execute_result"
    }
   ],
   "source": [
    "engine.execute('SELECT * FROM dow LIMIT 5').fetchall()"
   ]
  },
  {
   "cell_type": "code",
   "execution_count": 11,
   "metadata": {},
   "outputs": [
    {
     "name": "stdout",
     "output_type": "stream",
     "text": [
      "id INTEGER\n",
      "quarter INTEGER\n",
      "stock TEXT\n",
      "date TEXT\n",
      "open_price FLOAT\n",
      "high_price FLOAT\n",
      "low_price FLOAT\n",
      "close_price FLOAT\n",
      "volume INTEGER\n",
      "percent_change FLOAT\n"
     ]
    }
   ],
   "source": [
    "inspector = inspect(engine)\n",
    "columns = inspector.get_columns('dow')\n",
    "for c in columns:\n",
    "    print(c['name'], c[\"type\"])"
   ]
  },
  {
   "cell_type": "markdown",
   "metadata": {
    "slideshow": {
     "slide_type": "slide"
    }
   },
   "source": [
    "## Reflect and query dates"
   ]
  },
  {
   "cell_type": "code",
   "execution_count": 12,
   "metadata": {
    "slideshow": {
     "slide_type": "subslide"
    }
   },
   "outputs": [],
   "source": [
    "# Reflect Database into ORM class\n",
    "Base = automap_base()\n",
    "Base.prepare(engine, reflect=True)\n",
    "Dow = Base.classes.dow"
   ]
  },
  {
   "cell_type": "code",
   "execution_count": 13,
   "metadata": {
    "slideshow": {
     "slide_type": "fragment"
    }
   },
   "outputs": [],
   "source": [
    "session = Session(engine)"
   ]
  },
  {
   "cell_type": "markdown",
   "metadata": {
    "slideshow": {
     "slide_type": "subslide"
    }
   },
   "source": [
    "## Analysis"
   ]
  },
  {
   "cell_type": "markdown",
   "metadata": {},
   "source": [
    "Analyze the Average prices (open, high, low, close) for all stocks in the Month of May"
   ]
  },
  {
   "cell_type": "code",
   "execution_count": 22,
   "metadata": {
    "deletable": false,
    "nbgrader": {
     "checksum": "c06b2d6ed8b59a597a6f87d27bd5fe6f",
     "grade": false,
     "grade_id": "cell-a5033f5b305f26d6",
     "locked": false,
     "schema_version": 1,
     "solution": true
    }
   },
   "outputs": [
    {
     "data": {
      "text/plain": [
       "[('AA',\n",
       "  16.564000000000004,\n",
       "  17.015200000000004,\n",
       "  16.063599999999997,\n",
       "  16.504400000000004),\n",
       " ('AXP', 46.488, 47.56840000000002, 45.5976, 46.712399999999995),\n",
       " ('BA', 73.29719999999999, 74.7712, 71.6432, 73.44800000000001),\n",
       " ('BAC',\n",
       "  13.175599999999998,\n",
       "  13.454799999999999,\n",
       "  12.777599999999998,\n",
       "  13.051599999999997),\n",
       " ('CAT',\n",
       "  103.06719999999997,\n",
       "  105.52960000000002,\n",
       "  99.99320000000002,\n",
       "  103.15199999999999),\n",
       " ('CSCO',\n",
       "  18.122399999999995,\n",
       "  18.448399999999996,\n",
       "  17.603999999999996,\n",
       "  17.899199999999997),\n",
       " ('CVX', 100.8808, 102.9792, 98.82520000000001, 101.17560000000002),\n",
       " ('DD', 52.706799999999994, 53.79920000000001, 51.4244, 52.87359999999999),\n",
       " ('DIS', 41.194399999999995, 42.032399999999996, 40.31319999999999, 41.2496),\n",
       " ('GE', 19.8344, 20.222400000000004, 19.368, 19.783999999999995),\n",
       " ('HD', 36.533199999999994, 37.2756, 35.916, 36.559999999999995),\n",
       " ('HPQ', 41.7368, 42.71920000000001, 40.5248, 41.536400000000015),\n",
       " ('IBM', 162.2024, 165.0864, 160.14640000000003, 163.10160000000002),\n",
       " ('INTC', 21.4044, 22.1148, 20.935599999999994, 21.4352),\n",
       " ('JNJ', 62.4644, 63.42359999999998, 61.7504, 62.62359999999999),\n",
       " ('JPM', 44.532799999999995, 45.4828, 43.52440000000001, 44.4996),\n",
       " ('KO', 65.2824, 66.29880000000001, 64.39479999999999, 65.32640000000002),\n",
       " ('KRFT', 32.38360000000001, 32.92, 31.5876, 32.5576),\n",
       " ('MCD', 77.12200000000001, 78.31559999999999, 76.20400000000001, 77.2704),\n",
       " ('MMM', 91.53, 93.16759999999998, 90.11839999999998, 91.698),\n",
       " ('MRK', 34.38, 35.0136, 33.812400000000004, 34.360400000000006),\n",
       " ('MSFT', 26.046400000000002, 26.7212, 25.586, 25.9208),\n",
       " ('PFE', 19.715999999999994, 20.1676, 19.4324, 19.8216),\n",
       " ('PG', 64.0188, 64.8424, 62.77400000000001, 64.002),\n",
       " ('T', 29.612799999999996, 30.059199999999997, 29.09359999999999, 29.6268),\n",
       " ('TRV',\n",
       "  59.110400000000006,\n",
       "  60.075599999999994,\n",
       "  58.11639999999999,\n",
       "  59.16000000000001),\n",
       " ('UTX', 83.7964, 85.1816, 82.3592, 84.0332),\n",
       " ('VZ',\n",
       "  36.52080000000001,\n",
       "  37.08239999999999,\n",
       "  35.861599999999996,\n",
       "  36.46959999999999),\n",
       " ('WMT',\n",
       "  53.87240000000001,\n",
       "  54.74400000000001,\n",
       "  53.15839999999999,\n",
       "  53.912800000000004),\n",
       " ('XOM', 81.9584, 83.5868, 80.2984, 82.1116)]"
      ]
     },
     "execution_count": 22,
     "metadata": {},
     "output_type": "execute_result"
    }
   ],
   "source": [
    "# Query for the stock and average prices (open, high, low, close) \n",
    "# for all stock in the month of May\n",
    "# Sort the result by stock name\n",
    "# YOUR CODE HERE\n",
    "sel = [Dow.stock, \n",
    "       func.avg(Dow.open_price), \n",
    "       func.avg(Dow.high_price), \n",
    "       func.avg(Dow.low_price), \n",
    "       func.avg(Dow.close_price)]\n",
    "\n",
    "may_averages = session.query(*sel).\\\n",
    "    filter(func.strftime('%m', Dow.date == '05')).\\\n",
    "    group_by(Dow.stock).\\\n",
    "    order_by(Dow.stock).all()\n",
    "may_averages\n"
   ]
  },
  {
   "cell_type": "code",
   "execution_count": 26,
   "metadata": {
    "deletable": false,
    "nbgrader": {
     "checksum": "25b82936c5b5ba4f75cbf3baf547bcb8",
     "grade": false,
     "grade_id": "cell-8f14868d3f8f3f50",
     "locked": false,
     "schema_version": 1,
     "solution": true
    }
   },
   "outputs": [
    {
     "data": {
      "image/png": "[encoded data removed]",
      "text/plain": [
       "<Figure size 432x288 with 1 Axes>"
      ]
     },
     "metadata": {},
     "output_type": "display_data"
    }
   ],
   "source": [
    "# Plot the Results in a Matplotlib bar chart\n",
    "df = pd.DataFrame(may_averages, columns = ['stock','open', 'high', 'low', 'close'])\n",
    "df.set_index('stock', inplace = True)\n",
    "df.plot.bar()\n",
    "plt.show()"
   ]
  },
  {
   "cell_type": "markdown",
   "metadata": {},
   "source": [
    "### Bonus\n",
    "Calculate the high-low peak-to-peak (PTP) values for `IBM` stock after `2011-05-31`. \n",
    "* Note: high-low PTP is calculated using `high_price` - `low_price`\n",
    "* Use a DateTime.date object in the query filter\n",
    "* Use a list comprehension or numpy's ravel method to unpack the query's list of tuples into a list of PTP values.\n",
    "* Use matplotlib to plot the PTP values as a boxplot"
   ]
  },
  {
   "cell_type": "code",
   "execution_count": null,
   "metadata": {
    "collapsed": true,
    "deletable": false,
    "jupyter": {
     "outputs_hidden": true
    },
    "nbgrader": {
     "checksum": "fddb0cccaa58c0f7a6d7193efdb0209b",
     "grade": false,
     "grade_id": "cell-91ca80cc05b37ea7",
     "locked": false,
     "schema_version": 1,
     "solution": true
    },
    "slideshow": {
     "slide_type": "fragment"
    }
   },
   "outputs": [],
   "source": [
    "# Design a query to calculate the PTP for stock `IBM` after May, 2011\n",
    "# YOUR CODE HERE\n",
    "ptps"
   ]
  },
  {
   "cell_type": "code",
   "execution_count": null,
   "metadata": {
    "collapsed": true,
    "deletable": false,
    "jupyter": {
     "outputs_hidden": true
    },
    "nbgrader": {
     "checksum": "ef214205bd63979f0aa120accbfe6797",
     "grade": false,
     "grade_id": "cell-d0b673b76e86e46e",
     "locked": false,
     "schema_version": 1,
     "solution": true
    }
   },
   "outputs": [],
   "source": [
    "# Load the query into a dataframe, set the index to the date, and plot the ptps\n",
    "# YOUR CODE HERE"
   ]
  }
 ],
 "metadata": {
  "kernel_info": {
   "name": "python3"
  },
  "kernelspec": {
   "display_name": "Python 3",
   "language": "python",
   "name": "python3"
  },
  "language_info": {
   "codemirror_mode": {
    "name": "ipython",
    "version": 3
   },
   "file_extension": ".py",
   "mimetype": "text/x-python",
   "name": "python",
   "nbconvert_exporter": "python",
   "pygments_lexer": "ipython3",
   "version": "3.6.9"
  },
  "nteract": {
   "version": "0.2.0"
  },
  "varInspector": {
   "cols": {
    "lenName": 16,
    "lenType": 16,
    "lenVar": 40
   },
   "kernels_config": {
    "python": {
     "delete_cmd_postfix": "",
     "delete_cmd_prefix": "del ",
     "library": "var_list.py",
     "varRefreshCmd": "print(var_dic_list())"
    },
    "r": {
     "delete_cmd_postfix": ") ",
     "delete_cmd_prefix": "rm(",
     "library": "var_list.r",
     "varRefreshCmd": "cat(var_dic_list()) "
    }
   },
   "types_to_exclude": [
    "module",
    "function",
    "builtin_function_or_method",
    "instance",
    "_Feature"
   ],
   "window_display": false
  }
 },
 "nbformat": 4,
 "nbformat_minor": 4
}
