{
 "cells": [
  {
   "cell_type": "markdown",
   "metadata": {
    "slideshow": {
     "slide_type": "slide"
    }
   },
   "source": [
    "# Plotting Query Results"
   ]
  },
  {
   "cell_type": "markdown",
   "metadata": {
    "slideshow": {
     "slide_type": "slide"
    }
   },
   "source": [
    "## Setup"
   ]
  },
  {
   "cell_type": "code",
   "execution_count": 1,
   "metadata": {
    "deletable": false,
    "nbgrader": {
     "checksum": "aaecf88b986c0ba12fce209797d99aa8",
     "grade": false,
     "grade_id": "cell-e510ac54ba806bbd",
     "locked": false,
     "schema_version": 1,
     "solution": true
    },
    "slideshow": {
     "slide_type": "subslide"
    }
   },
   "outputs": [],
   "source": [
    "# Import Matplot lib\n",
    "import matplotlib\n",
    "from matplotlib import style\n",
    "style.use('seaborn')\n",
    "import matplotlib.pyplot as plt"
   ]
  },
  {
   "cell_type": "code",
   "execution_count": 2,
   "metadata": {
    "slideshow": {
     "slide_type": "subslide"
    }
   },
   "outputs": [],
   "source": [
    "import pandas as pd"
   ]
  },
  {
   "cell_type": "code",
   "execution_count": 5,
   "metadata": {
    "deletable": false,
    "nbgrader": {
     "checksum": "e4b7f7ef357d68fabe5c5adae6c44410",
     "grade": false,
     "grade_id": "cell-921fdfc7ea01c680",
     "locked": false,
     "schema_version": 1,
     "solution": true
    },
    "slideshow": {
     "slide_type": "subslide"
    }
   },
   "outputs": [],
   "source": [
    "# Import SQLAlchemy `automap` and other dependencies here\n",
    "import sqlalchemy\n",
    "from sqlalchemy.ext.automap import automap_base\n",
    "from sqlalchemy.orm import Session\n",
    "from sqlalchemy import create_engine, inspect"
   ]
  },
  {
   "cell_type": "code",
   "execution_count": 4,
   "metadata": {
    "deletable": false,
    "nbgrader": {
     "checksum": "5824732d2fed394fda7dcc48a767093d",
     "grade": false,
     "grade_id": "cell-efd553d6954b61df",
     "locked": false,
     "schema_version": 1,
     "solution": true
    },
    "slideshow": {
     "slide_type": "subslide"
    }
   },
   "outputs": [],
   "source": [
    "# Create an engine for the `emoji.sqlite` database\n",
    "engine = create_engine(\"sqlite:///../Resources/emoji.sqlite\", echo=False)"
   ]
  },
  {
   "cell_type": "markdown",
   "metadata": {
    "slideshow": {
     "slide_type": "slide"
    }
   },
   "source": [
    "## Explore Database"
   ]
  },
  {
   "cell_type": "code",
   "execution_count": 8,
   "metadata": {
    "deletable": false,
    "nbgrader": {
     "checksum": "f986b2e9df9082564613695ce42478e4",
     "grade": false,
     "grade_id": "cell-0e48aa1f13dad563",
     "locked": false,
     "schema_version": 1,
     "solution": true
    },
    "slideshow": {
     "slide_type": "subslide"
    }
   },
   "outputs": [
    {
     "data": {
      "text/plain": [
       "['emoji']"
      ]
     },
     "execution_count": 8,
     "metadata": {},
     "output_type": "execute_result"
    }
   ],
   "source": [
    "# Use the Inspector to explore the database and print the table names\n",
    "inspector = inspect(engine)\n",
    "inspector.get_table_names()"
   ]
  },
  {
   "cell_type": "code",
   "execution_count": 11,
   "metadata": {
    "deletable": false,
    "nbgrader": {
     "checksum": "067a439c94d6a686fb4a63f807705f3b",
     "grade": false,
     "grade_id": "cell-087efd9d2f394098",
     "locked": false,
     "schema_version": 1,
     "solution": true
    },
    "slideshow": {
     "slide_type": "subslide"
    }
   },
   "outputs": [
    {
     "name": "stdout",
     "output_type": "stream",
     "text": [
      "id INTEGER\n",
      "emoji_char TEXT\n",
      "emoji_id TEXT\n",
      "name TEXT\n",
      "score INTEGER\n"
     ]
    }
   ],
   "source": [
    "# Use Inspector to print the column names and types\n",
    "columns = inspector.get_columns('emoji')\n",
    "for column in columns:\n",
    "    print(column['name'], column['type'])"
   ]
  },
  {
   "cell_type": "code",
   "execution_count": 27,
   "metadata": {
    "deletable": false,
    "nbgrader": {
     "checksum": "8cc8ba1a8a2d9ba7863d99d4c94d2710",
     "grade": false,
     "grade_id": "cell-d7b08585acddc3cc",
     "locked": false,
     "schema_version": 1,
     "solution": true
    },
    "slideshow": {
     "slide_type": "subslide"
    }
   },
   "outputs": [
    {
     "name": "stdout",
     "output_type": "stream",
     "text": [
      "(1, '😂', '1F602', 'FACE WITH TEARS OF JOY', 1814832150)\n",
      "(2, '❤️', '2764', 'HEAVY BLACK HEART', 840619939)\n",
      "(3, '😍', '1F60D', 'SMILING FACE WITH HEART-SHAPED EYES', 680382416)\n",
      "(4, '♥️', '2665', 'BLACK HEART SUIT', 652715459)\n",
      "(5, '😭', '1F62D', 'LOUDLY CRYING FACE', 515991922)\n",
      "(6, '😊', '1F60A', 'SMILING FACE WITH SMILING EYES', 484540701)\n",
      "(7, '♻️', '267B', 'BLACK UNIVERSAL RECYCLING SYMBOL', 452489849)\n",
      "(8, '😒', '1F612', 'UNAMUSED FACE', 441690175)\n",
      "(9, '💕', '1F495', 'TWO HEARTS', 381679908)\n",
      "(10, '😘', '1F618', 'FACE THROWING A KISS', 377847645)\n"
     ]
    }
   ],
   "source": [
    "# Use `engine.execute` to select and display the first 10 rows from the emoji table\n",
    "connection = engine.connect()\n",
    "result = connection.execute('select * from emoji limit 10')\n",
    "for row in result:\n",
    "    print(row)"
   ]
  },
  {
   "cell_type": "markdown",
   "metadata": {
    "slideshow": {
     "slide_type": "slide"
    }
   },
   "source": [
    "## Reflect database and Query"
   ]
  },
  {
   "cell_type": "code",
   "execution_count": 25,
   "metadata": {
    "slideshow": {
     "slide_type": "subslide"
    }
   },
   "outputs": [],
   "source": [
    "# Reflect Database into ORM class\n",
    "Base = automap_base()\n",
    "Base.prepare(engine, reflect=True)\n",
    "Emoji = Base.classes.emoji"
   ]
  },
  {
   "cell_type": "code",
   "execution_count": 26,
   "metadata": {
    "slideshow": {
     "slide_type": "fragment"
    }
   },
   "outputs": [],
   "source": [
    "# Start a session to query the database\n",
    "session = Session(engine)"
   ]
  },
  {
   "cell_type": "markdown",
   "metadata": {
    "slideshow": {
     "slide_type": "subslide"
    }
   },
   "source": [
    "Use Matplotlib to create a horizontal bar chart and plot the emoji `score` in descending order. Use `emoji_char` as the y-axis labels. Plot only the top 10 emojis ranked by score"
   ]
  },
  {
   "cell_type": "code",
   "execution_count": 29,
   "metadata": {
    "deletable": false,
    "nbgrader": {
     "checksum": "9a5be02305a7342ac40ff97122a06dda",
     "grade": false,
     "grade_id": "cell-f542e9079952a0d2",
     "locked": false,
     "schema_version": 1,
     "solution": true
    },
    "slideshow": {
     "slide_type": "fragment"
    }
   },
   "outputs": [
    {
     "name": "stdout",
     "output_type": "stream",
     "text": [
      "[('😂', '1F602', 1814832150), ('❤️', '2764', 840619939), ('😍', '1F60D', 680382416), ('♥️', '2665', 652715459), ('😭', '1F62D', 515991922), ('😊', '1F60A', 484540701), ('♻️', '267B', 452489849), ('😒', '1F612', 441690175), ('💕', '1F495', 381679908), ('😘', '1F618', 377847645), ('😩', '1F629', 343967555), ('☺️', '263A', 333263710), ('👌', '1F44C', 311468371), ('😔', '1F614', 283873968), ('😏', '1F60F', 275930731), ('😁', '1F601', 268504794), ('⬅️', '2B05', 225109999), ('😉', '1F609', 210995480), ('👍', '1F44D', 186214004), ('😌', '1F60C', 180720579), ('🙏', '1F64F', 175057316), ('🎶', '1F3B6', 170127733), ('😢', '1F622', 166417040), ('😎', '1F60E', 160872106), ('😅', '1F605', 160434523), ('👀', '1F440', 159984970), ('😳', '1F633', 156664610), ('🙌', '1F64C', 154175844), ('💔', '1F494', 152572644), ('🙈', '1F648', 148162690), ('✌️', '270C', 143975239), ('✨', '2728', 139984564), ('💙', '1F499', 139339131), ('💜', '1F49C', 137264417), ('💯', '1F4AF', 134780880), ('😴', '1F634', 130865258), ('😄', '1F604', 130477038), ('💖', '1F496', 130424962), ('😑', '1F611', 128234168), ('😕', '1F615', 117379741), ('😜', '1F61C', 116339825), ('😞', '1F61E', 114838048), ('😋', '1F60B', 112633851), ('😪', '1F62A', 108324223), ('😐', '1F610', 106264072), ('👏', '1F44F', 102799918), ('💗', '1F497', 101184223), ('🔥', '1F525', 100755958), ('💘', '1F498', 100292305), ('💁', '1F481', 100157815), ('💞', '1F49E', 98235735), ('👉', '1F449', 89030704), ('📷', '1F4F7', 87426008), ('💋', '1F48B', 87163250), ('🙊', '1F64A', 86580161), ('🌸', '1F338', 85658369), ('😱', '1F631', 85312719), ('✋', '270B', 82829646), ('😈', '1F608', 79126643), ('🌹', '1F339', 78680533), ('😡', '1F621', 77765674), ('🎉', '1F389', 74343725), ('😃', '1F603', 73032826), ('💀', '1F480', 72768872), ('💛', '1F49B', 70983935), ('😫', '1F62B', 70255616), ('💪', '1F4AA', 69816777), ('▶️', '25B6', 69065216), ('😝', '1F61D', 68397410), ('👊', '1F44A', 67612477), ('😆', '1F606', 67066945), ('😀', '1F600', 65760360), ('🌚', '1F31A', 65256066), ('😤', '1F624', 63920738), ('☀️', '2600', 60958875), ('😓', '1F613', 59951054), ('😻', '1F63B', 59648875), ('💓', '1F493', 59562452), ('✔️', '2714', 59391321), ('💚', '1F49A', 59228054), ('😣', '1F623', 56117603), ('👈', '1F448', 55226491), ('😷', '1F637', 53880740), ('➡️', '27A1', 52440798), ('😇', '1F607', 52172894), ('😛', '1F61B', 51288550), ('👋', '1F44B', 50359440), ('😚', '1F61A', 50124691), ('😥', '1F625', 50014772), ('👑', '1F451', 48711658), ('✅', '2705', 46436502), ('😬', '1F62C', 46214249), ('🎧', '1F3A7', 44572629), ('😖', '1F616', 41026341), ('😠', '1F620', 40343477), ('🌟', '1F31F', 38590698), ('🎵', '1F3B5', 38146906), ('😶', '1F636', 37541092), ('1️⃣', '0031-20E3', 37313706), ('🙋', '1F64B', 36950273), ('👇', '1F447', 36924974), ('2️⃣', '0032-20E3', 36389557), ('👎', '1F44E', 35779058), ('💃', '1F483', 35537189), ('🔫', '1F52B', 35127839), ('🔴', '1F534', 34949546), ('💫', '1F4AB', 34331927), ('↪️', '21AA', 33725488), ('💥', '1F4A5', 31687749), ('👅', '1F445', 31561395), ('↩️', '21A9', 31265883), ('💭', '1F4AD', 30703227), ('✊', '270A', 30436225), ('©', '00A9', 29288506), ('✈️', '2708', 29088464), ('💩', '1F4A9', 28739244), ('😰', '1F630', 28662212), ('😹', '1F639', 28086059), ('🙅', '1F645', 27772946), ('◀️', '25C0', 27520793), ('🍃', '1F343', 27297747), ('🌞', '1F31E', 26637811), ('💦', '1F4A6', 26459413), ('🙆', '1F646', 26065980), ('💎', '1F48E', 26052152), ('⚡️', '26A1', 25184506), ('⭐️', '2B50', 25121321), ('💤', '1F4A4', 24579270), ('🎈', '1F388', 24256440), ('‼️', '203C', 24175977), ('🍕', '1F355', 24148812), ('👻', '1F47B', 23687070), ('🍀', '1F340', 23632134), ('🎤', '1F3A4', 23447396), ('⚽️', '26BD', 23228233), ('😟', '1F61F', 22313732), ('😨', '1F628', 22242378), ('🚶', '1F6B6', 21909060), ('🌺', '1F33A', 21875465), ('🔞', '1F51E', 21530647), ('🎀', '1F380', 21359361), ('🐧', '1F427', 21224279), ('☑️', '2611', 20850012), ('😙', '1F619', 20712464), ('🌴', '1F334', 20625064), ('❌', '274C', 20027991), ('👐', '1F450', 19958716), ('❄️', '2744', 19183977), ('❗️', '2757', 19106152), ('👽', '1F47D', 19071792), ('💅', '1F485', 18929340), ('☝️', '261D', 18772229), ('🌙', '1F319', 18660409), ('🌈', '1F308', 18526942), ('🙇', '1F647', 18401543), ('☁️', '2601', 18384980), ('🎥', '1F3A5', 18307724), ('😧', '1F627', 17873634), ('🍻', '1F37B', 17856004), ('💟', '1F49F', 17744964), ('👯', '1F46F', 17578783), ('👼', '1F47C', 17173535), ('☕️', '2615', 16880965), ('🎁', '1F381', 16795638), ('🍂', '1F342', 16784680), ('💝', '1F49D', 16781072), ('🌷', '1F337', 16766557), ('🐶', '1F436', 16522128), ('🌻', '1F33B', 16151764), ('💰', '1F4B0', 16128840), ('💐', '1F490', 15857732), ('☎️', '260E', 15727796), ('🌿', '1F33F', 15650967), ('🎂', '1F382', 15416571), ('😮', '1F62E', 15326935), ('🏃', '1F3C3', 14962904), ('🌎', '1F30E', 14865933), ('🌍', '1F30D', 14620668), ('♨️', '2668', 14517841), ('⚓️', '2693', 14492770), ('😵', '1F635', 14411468), ('✖️', '2716', 14355036), ('🇺🇸', '1F1FA-1F1F8', 14241200), ('😲', '1F632', 14230304), ('🐱', '1F431', 13996437), ('♣️', '2663', 13992835), ('😯', '1F62F', 13971612), ('🎄', '1F384', 13830952), ('👫', '1F46B', 13688741), ('👆', '1F446', 13516574), ('🏀', '1F3C0', 13500215), ('🏆', '1F3C6', 13267464), ('🌝', '1F31D', 13266112), ('💸', '1F4B8', 13010732), ('💍', '1F48D', 12772729), ('😿', '1F63F', 12676941), ('🌼', '1F33C', 12080702), ('💨', '1F4A8', 11992827), ('👭', '1F46D', 11857675), ('🍁', '1F341', 11783406), ('💏', '1F48F', 11567813), ('🙉', '1F649', 11361312), ('🎊', '1F38A', 11297801), ('💌', '1F48C', 11019909), ('👸', '1F478', 10964018), ('🌊', '1F30A', 10881389), ('🎼', '1F3BC', 10874758), ('🌵', '1F335', 10847035), ('🚀', '1F680', 10455012), ('💆', '1F486', 10398093), ('👄', '1F444', 10391604), ('⏩', '23E9', 10255757), ('🎬', '1F3AC', 10244288), ('📹', '1F4F9', 10243913), ('😦', '1F626', 10113351), ('☔️', '2614', 10064927), ('💣', '1F4A3', 9910291), ('🔪', '1F52A', 9862387), ('🐷', '1F437', 9686350), ('🙍', '1F64D', 9553053), ('👿', '1F47F', 9368971), ('💑', '1F491', 9313917), ('🔝', '1F51D', 9262736), ('😽', '1F63D', 9227046), ('🍩', '1F369', 9053613), ('🐝', '1F41D', 9043228), ('🍟', '1F35F', 8935863), ('🍭', '1F36D', 8928583), ('📲', '1F4F2', 8852071), ('🌀', '1F300', 8834743), ('🏈', '1F3C8', 8834538), ('💢', '1F4A2', 8763388), ('⚠️', '26A0', 8664592), ('🎅', '1F385', 8595685), ('😸', '1F638', 8552630), ('🆗', '1F197', 8506304), ('♦️', '2666', 8412177), ('📱', '1F4F1', 8401538), ('🐼', '1F43C', 8347653), ('🌏', '1F30F', 8287288), ('🍓', '1F353', 8241247), ('♠️', '2660', 8236997), ('😼', '1F63C', 8096307), ('🎸', '1F3B8', 8019155), ('🐰', '1F430', 8009459), ('💬', '1F4AC', 7901759), ('🍆', '1F346', 7793976), ('🍑', '1F351', 7790868), ('😗', '1F617', 7784939), ('🍷', '1F377', 7778869), ('🙀', '1F640', 7767828), ('🍺', '1F37A', 7708559), ('🍉', '1F349', 7641587), ('🍌', '1F34C', 7630613), ('🚨', '1F6A8', 7573741), ('⛄️', '26C4', 7486371), ('🍴', '1F374', 7439874), ('👶', '1F476', 7314292), ('📺', '1F4FA', 7273430), ('🐾', '1F43E', 7238677), ('🍒', '1F352', 7206196), ('🔮', '1F52E', 7191109), ('🐸', '1F438', 7118436), ('⭕️', '2B55', 7064569), ('🍹', '1F379', 7035908), ('🐍', '1F40D', 6993359), ('👣', '1F463', 6979682), ('🚮', '1F6AE', 6969156), ('🌾', '1F33E', 6961497), ('⛅️', '26C5', 6960553), ('⬇️', '2B07', 6792686), ('🚗', '1F697', 6781740), ('🚬', '1F6AC', 6697095), ('🔸', '1F538', 6654159), ('🐻', '1F43B', 6651897), ('🐣', '1F423', 6527437), ('🌌', '1F30C', 6489378), ('🐢', '1F422', 6249991), ('📞', '1F4DE', 6249324), ('🎃', '1F383', 6220293), ('🎯', '1F3AF', 6217821), ('👾', '1F47E', 6209822), ('🍔', '1F354', 6137317), ('🛃', '1F6C3', 6132546), ('🐯', '1F42F', 6091396), ('↔️', '2194', 6080950), ('📢', '1F4E2', 6072737), ('😺', '1F63A', 6022558), ('🔊', '1F50A', 5993164), ('🍫', '1F36B', 5988745), ('📝', '1F4DD', 5985887), ('🍦', '1F366', 5924778), ('™', '2122', 5920599), ('🍬', '1F36C', 5919213), ('🌱', '1F331', 5873746), ('🍸', '1F378', 5818523), ('💉', '1F489', 5786902), ('📚', '1F4DA', 5776726), ('🍍', '1F34D', 5714551), ('🚫', '1F6AB', 5611801), ('🎮', '1F3AE', 5544059), ('🐥', '1F425', 5525128), ('®', '00AE', 5519501), ('🐙', '1F419', 5518537), ('🍰', '1F370', 5477968), ('📕', '1F4D5', 5464147), ('🍇', '1F347', 5454976), ('📍', '1F4CD', 5448741), ('▪️', '25AA', 5436942), ('💄', '1F484', 5345908), ('🐳', '1F433', 5345769), ('💊', '1F48A', 5267189), ('🐐', '1F410', 5255182), ('⚾️', '26BE', 5169040), ('✂️', '2702', 5158305), ('✏️', '270F', 5095021), ('💿', '1F4BF', 5084385), ('🍪', '1F36A', 5034979), ('🐒', '1F412', 4991760), ('🇫🇷', '1F1EB-1F1F7', 4983372), ('👩', '1F469', 4969910), ('🐬', '1F42C', 4967794), ('💡', '1F4A1', 4942240), ('🔑', '1F511', 4917493), ('👹', '1F479', 4816596), ('👨', '1F468', 4805682), ('3️⃣', '0033-20E3', 4787455), ('🏡', '1F3E1', 4765013), ('🎓', '1F393', 4734934), ('👧', '1F467', 4730264), ('💻', '1F4BB', 4684663), ('🎆', '1F386', 4639540), ('💧', '1F4A7', 4638556), ('🌠', '1F320', 4619987), ('🆘', '1F198', 4493821), ('🍎', '1F34E', 4472861), ('👙', '1F459', 4435764), ('🔃', '1F503', 4392008), ('❓', '2753', 4353932), ('👠', '1F460', 4343472), ('🆓', '1F193', 4311841), ('😾', '1F63E', 4302884), ('📖', '1F4D6', 4299960), ('🔵', '1F535', 4266142), ('💂', '1F482', 4148238), ('🇬🇧', '1F1EC-1F1E7', 4132413), ('💵', '1F4B5', 4105142), ('🐘', '1F418', 4092834), ('🏊', '1F3CA', 4088615), ('🍄', '1F344', 4085714), ('🆒', '1F192', 4023226), ('♋️', '264B', 4019078), ('🚦', '1F6A6', 4017439), ('📣', '1F4E3', 4010131), ('👪', '1F46A', 3953108), ('📥', '1F4E5', 3934286), ('🍊', '1F34A', 3879318), ('📌', '1F4CC', 3878962), ('🔐', '1F510', 3820002), ('🔙', '1F519', 3786394), ('👦', '1F466', 3775818), ('⚪️', '26AA', 3761724), ('🌅', '1F305', 3756441), ('🐦', '1F426', 3654011), ('💇', '1F487', 3645196), ('⚫️', '26AB', 3638784), ('🍗', '1F357', 3637323), ('🇮🇹', '1F1EE-1F1F9', 3636954), ('🛅', '1F6C5', 3595712), ('🏠', '1F3E0', 3581537), ('📻', '1F4FB', 3572593), ('🌃', '1F303', 3529635), ('👓', '1F453', 3520533), ('🚘', '1F698', 3493035), ('⏰', '23F0', 3443794), ('🌲', '1F332', 3385119), ('↘️', '2198', 3384630), ('🎨', '1F3A8', 3372360), ('🎭', '1F3AD', 3336403), ('🐵', '1F435', 3325854), ('⌚️', '231A', 3316363), ('⬆️', '2B06', 3295987), ('4️⃣', '0034-20E3', 3275385), ('🙎', '1F64E', 3259556), ('🍋', '1F34B', 3254093), ('🌛', '1F31B', 3239123), ('↗️', '2197', 3237540), ('🍧', '1F367', 3221328), ('🐟', '1F41F', 3218901), ('✉️', '2709', 3188878), ('🏁', '1F3C1', 3139204), ('👬', '1F46C', 3130007), ('✳️', '2733', 3097535), ('🔁', '1F501', 3089522), ('🔹', '1F539', 3086250), ('👵', '1F475', 3071985), ('⤵️', '2935', 3059474), ('🍼', '1F37C', 3052921), ('🐠', '1F420', 3048289), ('👟', '1F45F', 2979762), ('🌑', '1F311', 2978068), ('🆙', '1F199', 2977926), ('🍝', '1F35D', 2967129), ('🌜', '1F31C', 2927306), ('❕', '2755', 2914840), ('🌕', '1F315', 2911341), ('🆕', '1F195', 2864359), ('🐽', '1F43D', 2853555), ('♐️', '2650', 2848253), ('👰', '1F470', 2799890), ('⏪', '23EA', 2796191), ('🎾', '1F3BE', 2774060), ('🍥', '1F365', 2767473), ('⛽️', '26FD', 2758643), ('👂', '1F442', 2757165), ('5️⃣', '0035-20E3', 2752946), ('🎩', '1F3A9', 2751441), ('🎇', '1F387', 2728388), ('🐺', '1F43A', 2690776), ('👗', '1F457', 2688740), ('🍜', '1F35C', 2677414), ('🐨', '1F428', 2648949), ('🌳', '1F333', 2648553), ('🐴', '1F434', 2645608), ('👃', '1F443', 2630350), ('🎐', '1F390', 2585070), ('🔗', '1F517', 2569493), ('🔜', '1F51C', 2545941), ('👳', '1F473', 2514774), ('🍳', '1F373', 2512926), ('⛳️', '26F3', 2511511), ('↙️', '2199', 2508169), ('🐔', '1F414', 2496996), ('⁉️', '2049', 2479622), ('🐛', '1F41B', 2478479), ('🚿', '1F6BF', 2461567), ('❇️', '2747', 2458520), ('🌽', '1F33D', 2448461), ('🇪🇸', '1F1EA-1F1F8', 2416288), ('🐮', '1F42E', 2384151), ('🗿', '1F5FF', 2373958), ('👴', '1F474', 2347119), ('✴️', '2734', 2344631), ('⛔️', '26D4', 2319132), ('Ⓜ️', '24C2', 2293054), ('👤', '1F464', 2286035), ('🔋', '1F50B', 2281604), ('🔘', '1F518', 2253318), ('🐋', '1F40B', 2245767), ('🍞', '1F35E', 2223593), ('🔺', '1F53A', 2221323), ('🚙', '1F699', 2212244), ('🐹', '1F439', 2204088), ('🚖', '1F696', 2187107), ('🚼', '1F6BC', 2181337), ('🔻', '1F53B', 2172900), ('🐉', '1F409', 2162819), ('🏄', '1F3C4', 2141914), ('🐭', '1F42D', 2135739), ('🔄', '1F504', 2135197), ('🍱', '1F371', 2133157), ('🍵', '1F375', 2126364), ('↖️', '2196', 2117943), ('⤴️', '2934', 2107965), ('🚩', '1F6A9', 2107005), ('👮', '1F46E', 2096954), ('🔌', '1F50C', 2092157), ('🔱', '1F531', 2038606), ('➰', '27B0', 2038242), ('➕', '2795', 2034986), ('♒️', '2652', 2029417), ('🐤', '1F424', 2022497), ('🚲', '1F6B2', 2022406), ('🔒', '1F512', 2018679), ('🍣', '1F363', 1994986), ('🔍', '1F50D', 1960935), ('🍏', '1F34F', 1959442), ('🐞', '1F41E', 1953701), ('〰', '3030', 1952986), ('🍅', '1F345', 1952755), ('🐑', '1F411', 1951117), ('🇩🇪', '1F1E9-1F1EA', 1944308), ('🅰', '1F170', 1940680), ('🐎', '1F40E', 1940372), ('🌒', '1F312', 1934434), ('🔆', '1F506', 1923216), ('🌄', '1F304', 1912711), ('🎣', '1F3A3', 1908961), ('🍚', '1F35A', 1900258), ('👥', '1F465', 1892977), ('👺', '1F47A', 1881053), ('🔎', '1F50E', 1868868), ('0️⃣', '0030-20E3', 1867768), ('🔶', '1F536', 1865880), ('🐕', '1F415', 1845727), ('🌓', '1F313', 1843794), ('🕕', '1F555', 1828783), ('🐇', '1F407', 1825684), ('⌛️', '231B', 1816680), ('🐓', '1F413', 1816456), ('👱', '1F471', 1805412), ('⏳', '23F3', 1800507), ('🐈', '1F408', 1790045), ('🌘', '1F318', 1788770), ('♏️', '264F', 1788449), ('↕️', '2195', 1785606), ('💒', '1F492', 1780337), ('♈️', '2648', 1778886), ('🔓', '1F513', 1778091), ('✒️', '2712', 1776232), ('⛵️', '26F5', 1760140), ('🍨', '1F368', 1746915), ('〽️', '303D', 1746339), ('💲', '1F4B2', 1740212), ('🌔', '1F314', 1733740), ('🍤', '1F364', 1732926), ('🈹', '1F239', 1724856), ('㊙️', '3299', 1723368), ('👖', '1F456', 1709260), ('🌋', '1F30B', 1704008), ('📩', '1F4E9', 1694673), ('🌗', '1F317', 1662624), ('🐊', '1F40A', 1661190), ('🍯', '1F36F', 1658335), ('🅱', '1F171', 1651075), ('🐚', '1F41A', 1649990), ('📛', '1F4DB', 1633850), ('🔔', '1F514', 1618791), ('💮', '1F4AE', 1617519), ('🎹', '1F3B9', 1614364), ('🍖', '1F356', 1608976), ('👕', '1F455', 1597121), ('♉️', '2649', 1596371), ('➖', '2796', 1591866), ('🔨', '1F528', 1588688), ('🌖', '1F316', 1583467), ('🌐', '1F310', 1583292), ('♓️', '2653', 1556948), ('🏪', '1F3EA', 1554769), ('📈', '1F4C8', 1554390), ('♌️', '264C', 1542844), ('6️⃣', '0036-20E3', 1524157), ('🗽', '1F5FD', 1522817), ('🐩', '1F429', 1520213), ('🐌', '1F40C', 1517562), ('🛀', '1F6C0', 1516075), ('🚌', '1F68C', 1515354), ('🌆', '1F306', 1515354), ('👲', '1F472', 1506439), ('🌰', '1F330', 1484170), ('🎱', '1F3B1', 1482519), ('👔', '1F454', 1477554), ('🍲', '1F372', 1477076), ('🚺', '1F6BA', 1452227), ('♊️', '264A', 1452211), ('🇯🇵', '1F1EF-1F1F5', 1445643), ('🎻', '1F3BB', 1431483), ('🌇', '1F307', 1415694), ('🐜', '1F41C', 1412961), ('🍛', '1F35B', 1405810), ('🏨', '1F3E8', 1404678), ('💠', '1F4A0', 1401912), ('🎋', '1F38B', 1397594), ('🔛', '1F51B', 1396067), ('🚂', '1F682', 1388806), ('♑️', '2651', 1385110), ('🐲', '1F432', 1364156), ('📀', '1F4C0', 1362350), ('7️⃣', '0037-20E3', 1357521), ('㊗️', '3297', 1355908), ('🏂', '1F3C2', 1349600), ('❎', '274E', 1347483), ('📆', '1F4C6', 1331649), ('🍐', '1F350', 1322593), ('🔷', '1F537', 1313049), ('🎲', '1F3B2', 1301222), ('⛪️', '26EA', 1272102), ('🚴', '1F6B4', 1260954), ('🎷', '1F3B7', 1256754), ('📅', '1F4C5', 1242197), ('📦', '1F4E6', 1221171), ('🍮', '1F36E', 1221160), ('🏥', '1F3E5', 1214783), ('🎌', '1F38C', 1208586), ('📰', '1F4F0', 1202910), ('🅾', '1F17E', 1198425), ('🌂', '1F302', 1186906), ('🆔', '1F194', 1186617), ('🏢', '1F3E2', 1183801), ('🆚', '1F19A', 1176324), ('🚪', '1F6AA', 1174519), ('🗻', '1F5FB', 1173205), ('🎎', '1F38E', 1167957), ('🐖', '1F416', 1156969), ('🎺', '1F3BA', 1156954), ('🎳', '1F3B3', 1152959), ('❔', '2754', 1142912), ('♍️', '264D', 1142612), ('🐫', '1F42B', 1141760), ('🏩', '1F3E9', 1129490), ('♎️', '264E', 1129226), ('🍡', '1F361', 1120224), ('🔽', '1F53D', 1112245), ('👞', '1F45E', 1107828), ('🔰', '1F530', 1107460), ('👒', '1F452', 1106660), ('🔕', '1F515', 1099929), ('🚔', '1F694', 1092981), ('🚽', '1F6BD', 1088465), ('🏫', '1F3EB', 1086247), ('👜', '1F45C', 1085348), ('🐄', '1F404', 1073664), ('💳', '1F4B3', 1072006), ('🇷🇺', '1F1F7-1F1FA', 1064595), ('🏉', '1F3C9', 1047922), ('🐀', '1F400', 1039544), ('🚓', '1F693', 1029926), ('🎡', '1F3A1', 1020718), ('🔼', '1F53C', 1020247), ('🐪', '1F42A', 1006152), ('🐡', '1F421', 997794), ('🚣', '1F6A3', 996897), ('👷', '1F477', 995766), ('🍙', '1F359', 994447), ('🚢', '1F6A2', 987591), ('🅿️', '1F17F', 950990), ('📴', '1F4F4', 949734), ('🐏', '1F40F', 947881), ('🚒', '1F692', 947080), ('💈', '1F488', 942816), ('🚑', '1F691', 932525), ('🗼', '1F5FC', 923623), ('🃏', '1F0CF', 918881), ('👛', '1F45B', 917471), ('📡', '1F4E1', 917255), ('🏇', '1F3C7', 914713), ('⏫', '23EB', 908856), ('🎢', '1F3A2', 907323), ('👘', '1F458', 899047), ('🎒', '1F392', 897862), ('💷', '1F4B7', 894163), ('ℹ️', '2139', 886912), ('🚕', '1F695', 880518), ('🏰', '1F3F0', 880424), ('👢', '1F462', 865913), ('👚', '1F45A', 864164), ('➿', '27BF', 861001), ('⛺️', '26FA', 857039), ('🎪', '1F3AA', 847996), ('🎫', '1F3AB', 843346), ('💼', '1F4BC', 840679), ('🐗', '1F417', 838182), ('🕛', '1F55B', 833330), ('🐅', '1F405', 831950), ('🔚', '1F51A', 827213), ('🔲', '1F532', 827178), ('▫️', '25AB', 826505), ('8️⃣', '0038-20E3', 826112), ('🐂', '1F402', 822781), ('9️⃣', '0039-20E3', 818899), ('🚁', '1F681', 814040), ('⏬', '23EC', 814017), ('🌉', '1F309', 805317), ('🔦', '1F526', 802437), ('🚚', '1F69A', 801856), ('🍈', '1F348', 798093), ('🌁', '1F301', 758363), ('🕒', '1F552', 755495), ('◾️', '25FE', 745337), ('🚍', '1F68D', 741783), ('👡', '1F461', 734478), ('🔳', '1F533', 728278), ('🚹', '1F6B9', 728276), ('🔯', '1F52F', 727097), ('🕦', '1F566', 722005), ('💺', '1F4BA', 712682), ('🎍', '1F38D', 709126), ('🍠', '1F360', 707112), ('🚧', '1F6A7', 677899), ('🕐', '1F550', 672775), ('🎰', '1F3B0', 671688), ('🔅', '1F505', 662669), ('🇰🇷', '1F1F0-1F1F7', 662548), ('◼️', '25FC', 658944), ('📶', '1F4F6', 657000), ('🔟', '1F51F', 655408), ('💽', '1F4BD', 654749), ('💶', '1F4B6', 650022), ('📓', '1F4D3', 644391), ('🎏', '1F38F', 642311), ('🍢', '1F362', 628465), ('📮', '1F4EE', 627375), ('🍘', '1F358', 620370), ('🎠', '1F3A0', 619320), ('📎', '1F4CE', 616952), ('⛎', '26CE', 614461), ('🏤', '1F3E4', 614435), ('♿️', '267F', 605231), ('🔇', '1F507', 605109), ('📬', '1F4EC', 603060), ('📧', '1F4E7', 601119), ('💾', '1F4BE', 600039), ('🕑', '1F551', 595163), ('📒', '1F4D2', 593525), ('🎿', '1F3BF', 589453), ('🐆', '1F406', 586552), ('🎑', '1F391', 583052), ('🏬', '1F3EC', 581087), ('🍶', '1F376', 578469), ('📉', '1F4C9', 578211), ('⬜️', '2B1C', 578169), ('#️⃣', '0023-20E3', 572656), ('🔭', '1F52D', 559445), ('🏧', '1F3E7', 558119), ('🚃', '1F683', 550969), ('📊', '1F4CA', 545988), ('🕓', '1F553', 531776), ('📼', '1F4FC', 531551), ('🚄', '1F684', 521950), ('🐃', '1F403', 518672), ('🎽', '1F3BD', 514010), ('📋', '1F4CB', 508333), ('🕔', '1F554', 504550), ('🚤', '1F6A4', 501674), ('🎦', '1F3A6', 495891), ('🔂', '1F502', 495874), ('🕘', '1F558', 491858), ('📨', '1F4E8', 491300), ('🚛', '1F69B', 490854), ('💴', '1F4B4', 488626), ('◻️', '25FB', 487149), ('🚥', '1F6A5', 486066), ('⬛️', '2B1B', 485613), ('🔧', '1F527', 485349), ('📗', '1F4D7', 478111), ('🇨🇳', '1F1E8-1F1F3', 475233), ('🕙', '1F559', 464852), ('🏦', '1F3E6', 464468), ('🕗', '1F557', 457623), ('🚐', '1F690', 445969), ('🐁', '1F401', 445135), ('📘', '1F4D8', 444682), ('⛲️', '26F2', 440317), ('🔈', '1F508', 437364), ('🔉', '1F509', 427635), ('🔬', '1F52C', 426555), ('🕖', '1F556', 425254), ('🚜', '1F69C', 422445), ('💱', '1F4B1', 417513), ('🛁', '1F6C1', 417465), ('🉐', '1F250', 411532), ('📵', '1F4F5', 408600), ('🏮', '1F3EE', 408368), ('🚇', '1F687', 408154), ('📜', '1F4DC', 402425), ('🕚', '1F55A', 401693), ('📳', '1F4F3', 401018), ('🚾', '1F6BE', 397383), ('🔩', '1F529', 395556), ('💹', '1F4B9', 394203), ('🆖', '1F196', 393019), ('🚅', '1F685', 392780), ('📄', '1F4C4', 388792), ('🚭', '1F6AD', 386114), ('🔖', '1F516', 375088), ('🚉', '1F689', 369178), ('🆎', '1F18E', 353503), ('🈯️', '1F22F', 343722), ('🚊', '1F68A', 343336), ('🏯', '1F3EF', 338328), ('🚷', '1F6B7', 334737), ('🚎', '1F68E', 331780), ('◽️', '25FD', 321961), ('🚵', '1F6B5', 318841), ('📃', '1F4C3', 312117), ('🔀', '1F500', 308478), ('📑', '1F4D1', 299448), ('🚻', '1F6BB', 298447), ('🚏', '1F68F', 290156), ('📠', '1F4E0', 280563), ('🏣', '1F3E3', 277905), ('🎴', '1F3B4', 277670), ('📫', '1F4EB', 276138), ('🈳', '1F233', 275552), ('🕜', '1F55C', 273935), ('👝', '1F45D', 272385), ('🏭', '1F3ED', 271968), ('🕤', '1F564', 269042), ('🚋', '1F68B', 267918), ('🔏', '1F50F', 267881), ('📐', '1F4D0', 261650), ('🚈', '1F688', 259220), ('🆑', '1F191', 256014), ('📯', '1F4EF', 255209), ('📙', '1F4D9', 253047), ('🀄️', '1F004', 249831), ('🈺', '1F23A', 246462), ('📪', '1F4EA', 245725), ('🕝', '1F55D', 245588), ('🚸', '1F6B8', 239609), ('🚆', '1F686', 238479), ('📔', '1F4D4', 234975), ('🗾', '1F5FE', 233720), ('📏', '1F4CF', 229871), ('🈶', '1F236', 228852), ('➗', '2797', 228691), ('🕥', '1F565', 226423), ('🔢', '1F522', 225092), ('🕞', '1F55E', 220790), ('🕟', '1F55F', 219646), ('🕢', '1F562', 217264), ('🈷', '1F237', 217012), ('🈚️', '1F21A', 215918), ('📤', '1F4E4', 214860), ('🈲', '1F232', 214518), ('🕠', '1F560', 209687), ('🕣', '1F563', 208421), ('🉑', '1F251', 207948), ('🈂', '1F202', 207723), ('🈵', '1F235', 206902), ('📭', '1F4ED', 206054), ('🈸', '1F238', 205818), ('📂', '1F4C2', 203814), ('📟', '1F4DF', 198324), ('🕡', '1F561', 194108), ('🈴', '1F234', 188686), ('📁', '1F4C1', 165858), ('🚰', '1F6B0', 155687), ('🚝', '1F69D', 152153), ('📇', '1F4C7', 148824), ('🕧', '1F567', 148285), ('🚯', '1F6AF', 131087), ('🚳', '1F6B3', 129009), ('🚞', '1F69E', 127573), ('🔤', '1F524', 125167), ('🛄', '1F6C4', 122307), ('🔣', '1F523', 121047), ('🈁', '1F201', 111239), ('🚠', '1F6A0', 106975), ('🚡', '1F6A1', 104016), ('🛂', '1F6C2', 103654), ('🔠', '1F520', 103234), ('🔡', '1F521', 101160), ('🚱', '1F6B1', 92412), ('🚟', '1F69F', 85790)]\n"
     ]
    }
   ],
   "source": [
    "# Query Emojis for `emoji_char`, `emoji_id`, and `score` and save the query into results\n",
    "results = session.query(Emoji.emoji_char, Emoji.emoji_id, Emoji.score).order_by(Emoji.score.desc()).all()\n",
    "print(results)"
   ]
  },
  {
   "cell_type": "markdown",
   "metadata": {
    "slideshow": {
     "slide_type": "subslide"
    }
   },
   "source": [
    "Unpack tuples using list comprehensions"
   ]
  },
  {
   "cell_type": "code",
   "execution_count": 31,
   "metadata": {
    "deletable": false,
    "nbgrader": {
     "checksum": "db3f4b6b4d6aca253f8733247536d604",
     "grade": false,
     "grade_id": "cell-cb3a057af2014c2c",
     "locked": false,
     "schema_version": 1,
     "solution": true
    },
    "slideshow": {
     "slide_type": "fragment"
    }
   },
   "outputs": [],
   "source": [
    "# Unpack the `emoji_id` and `scores` from results and save into separate lists\n",
    "emoji_id = [result[1] for result in results[:10]]\n",
    "scores = [int(result[2]) for result in results[:10]]"
   ]
  },
  {
   "cell_type": "markdown",
   "metadata": {
    "slideshow": {
     "slide_type": "slide"
    }
   },
   "source": [
    "## Plot using Matplotlib"
   ]
  },
  {
   "cell_type": "code",
   "execution_count": 32,
   "metadata": {
    "deletable": false,
    "nbgrader": {
     "checksum": "12ec0603a7b092db782614a5c3ea3bc5",
     "grade": false,
     "grade_id": "cell-80891ad9d9412629",
     "locked": false,
     "schema_version": 1,
     "solution": true
    },
    "slideshow": {
     "slide_type": "subslide"
    }
   },
   "outputs": [
    {
     "data": {
      "image/png": "[encoded data removed]",
      "text/plain": [
       "<Figure size 432x288 with 1 Axes>"
      ]
     },
     "metadata": {
      "needs_background": "light"
     },
     "output_type": "display_data"
    }
   ],
   "source": [
    "# Create a horizontal bar chart and plot the `emoji_id` on the y-axis and the `score` on the x-axis\n",
    "# Challenge: Try to plot the scores in descending order on the graph (The largest score is at the top)\n",
    "fig, ax = plt.subplots()\n",
    "ypos = range(1, len(scores)+1)\n",
    "ax.barh(ypos, scores[::-1])\n",
    "ax.set_xlabel(\"score\")\n",
    "ax.set_ylabel(\"emoji\")\n",
    "ax.set_yticks(ypos)\n",
    "ax.set_yticklabels(emoji_id[::-1])\n",
    "ax.set_title(\"Emoji Scores\")\n",
    "fig.tight_layout()\n",
    "plt.show()"
   ]
  },
  {
   "cell_type": "markdown",
   "metadata": {
    "slideshow": {
     "slide_type": "slide"
    }
   },
   "source": [
    "## Plot using Pandas Plotting"
   ]
  },
  {
   "cell_type": "markdown",
   "metadata": {
    "slideshow": {
     "slide_type": "subslide"
    }
   },
   "source": [
    "Load the results into a Pandas DataFrame"
   ]
  },
  {
   "cell_type": "code",
   "execution_count": 33,
   "metadata": {
    "deletable": false,
    "nbgrader": {
     "checksum": "d3d94c8ef5d76d423bac1ea95b540144",
     "grade": false,
     "grade_id": "cell-8f9936e71374d442",
     "locked": false,
     "schema_version": 1,
     "solution": true
    },
    "slideshow": {
     "slide_type": "fragment"
    }
   },
   "outputs": [
    {
     "data": {
      "text/html": [
       "<div>\n",
       "<style scoped>\n",
       "    .dataframe tbody tr th:only-of-type {\n",
       "        vertical-align: middle;\n",
       "    }\n",
       "\n",
       "    .dataframe tbody tr th {\n",
       "        vertical-align: top;\n",
       "    }\n",
       "\n",
       "    .dataframe thead th {\n",
       "        text-align: right;\n",
       "    }\n",
       "</style>\n",
       "<table border=\"1\" class=\"dataframe\">\n",
       "  <thead>\n",
       "    <tr style=\"text-align: right;\">\n",
       "      <th></th>\n",
       "      <th>emoji_char</th>\n",
       "      <th>score</th>\n",
       "    </tr>\n",
       "    <tr>\n",
       "      <th>emoji_id</th>\n",
       "      <th></th>\n",
       "      <th></th>\n",
       "    </tr>\n",
       "  </thead>\n",
       "  <tbody>\n",
       "    <tr>\n",
       "      <th>1F602</th>\n",
       "      <td>😂</td>\n",
       "      <td>1814832150</td>\n",
       "    </tr>\n",
       "    <tr>\n",
       "      <th>2764</th>\n",
       "      <td>❤️</td>\n",
       "      <td>840619939</td>\n",
       "    </tr>\n",
       "    <tr>\n",
       "      <th>1F60D</th>\n",
       "      <td>😍</td>\n",
       "      <td>680382416</td>\n",
       "    </tr>\n",
       "    <tr>\n",
       "      <th>2665</th>\n",
       "      <td>♥️</td>\n",
       "      <td>652715459</td>\n",
       "    </tr>\n",
       "    <tr>\n",
       "      <th>1F62D</th>\n",
       "      <td>😭</td>\n",
       "      <td>515991922</td>\n",
       "    </tr>\n",
       "    <tr>\n",
       "      <th>1F60A</th>\n",
       "      <td>😊</td>\n",
       "      <td>484540701</td>\n",
       "    </tr>\n",
       "    <tr>\n",
       "      <th>267B</th>\n",
       "      <td>♻️</td>\n",
       "      <td>452489849</td>\n",
       "    </tr>\n",
       "    <tr>\n",
       "      <th>1F612</th>\n",
       "      <td>😒</td>\n",
       "      <td>441690175</td>\n",
       "    </tr>\n",
       "    <tr>\n",
       "      <th>1F495</th>\n",
       "      <td>💕</td>\n",
       "      <td>381679908</td>\n",
       "    </tr>\n",
       "    <tr>\n",
       "      <th>1F618</th>\n",
       "      <td>😘</td>\n",
       "      <td>377847645</td>\n",
       "    </tr>\n",
       "  </tbody>\n",
       "</table>\n",
       "</div>"
      ],
      "text/plain": [
       "         emoji_char       score\n",
       "emoji_id                       \n",
       "1F602             😂  1814832150\n",
       "2764             ❤️   840619939\n",
       "1F60D             😍   680382416\n",
       "2665             ♥️   652715459\n",
       "1F62D             😭   515991922\n",
       "1F60A             😊   484540701\n",
       "267B             ♻️   452489849\n",
       "1F612             😒   441690175\n",
       "1F495             💕   381679908\n",
       "1F618             😘   377847645"
      ]
     },
     "execution_count": 33,
     "metadata": {},
     "output_type": "execute_result"
    }
   ],
   "source": [
    "# Load the results into a pandas dataframe. Set the index to the `emoji_id`\n",
    "df = pd.DataFrame(results[:10], columns=['emoji_char', 'emoji_id', 'score'])\n",
    "df.set_index('emoji_id', inplace=True, )\n",
    "df.head(10)"
   ]
  },
  {
   "cell_type": "markdown",
   "metadata": {
    "slideshow": {
     "slide_type": "subslide"
    }
   },
   "source": [
    "Plot using Pandas"
   ]
  },
  {
   "cell_type": "code",
   "execution_count": 34,
   "metadata": {
    "deletable": false,
    "nbgrader": {
     "checksum": "18bc6d5426cb05c1519868a4f106a9e3",
     "grade": false,
     "grade_id": "cell-9684754419fc6916",
     "locked": false,
     "schema_version": 1,
     "solution": true
    },
    "slideshow": {
     "slide_type": "fragment"
    }
   },
   "outputs": [
    {
     "data": {
      "image/png": "[encoded data removed]",
      "text/plain": [
       "<Figure size 432x288 with 1 Axes>"
      ]
     },
     "metadata": {
      "needs_background": "light"
     },
     "output_type": "display_data"
    }
   ],
   "source": [
    "# Plot the dataframe as a horizontal bar chart using pandas plotting\n",
    "df.iloc[::-1].plot.barh(title=\"emoji ranking\")\n",
    "plt.tight_layout()\n",
    "plt.show()"
   ]
  },
  {
   "cell_type": "code",
   "execution_count": 35,
   "metadata": {
    "deletable": false,
    "nbgrader": {
     "checksum": "720da10a1db792d790372a236fec7513",
     "grade": false,
     "grade_id": "cell-e4fbc88164f5ce01",
     "locked": false,
     "schema_version": 1,
     "solution": true
    }
   },
   "outputs": [
    {
     "data": {
      "text/html": [
       "<div>\n",
       "<style scoped>\n",
       "    .dataframe tbody tr th:only-of-type {\n",
       "        vertical-align: middle;\n",
       "    }\n",
       "\n",
       "    .dataframe tbody tr th {\n",
       "        vertical-align: top;\n",
       "    }\n",
       "\n",
       "    .dataframe thead th {\n",
       "        text-align: right;\n",
       "    }\n",
       "</style>\n",
       "<table border=\"1\" class=\"dataframe\">\n",
       "  <thead>\n",
       "    <tr style=\"text-align: right;\">\n",
       "      <th></th>\n",
       "      <th>id</th>\n",
       "      <th>emoji_char</th>\n",
       "      <th>emoji_id</th>\n",
       "      <th>name</th>\n",
       "      <th>score</th>\n",
       "    </tr>\n",
       "  </thead>\n",
       "  <tbody>\n",
       "    <tr>\n",
       "      <th>0</th>\n",
       "      <td>1</td>\n",
       "      <td>😂</td>\n",
       "      <td>1F602</td>\n",
       "      <td>FACE WITH TEARS OF JOY</td>\n",
       "      <td>1814832150</td>\n",
       "    </tr>\n",
       "    <tr>\n",
       "      <th>1</th>\n",
       "      <td>2</td>\n",
       "      <td>❤️</td>\n",
       "      <td>2764</td>\n",
       "      <td>HEAVY BLACK HEART</td>\n",
       "      <td>840619939</td>\n",
       "    </tr>\n",
       "    <tr>\n",
       "      <th>2</th>\n",
       "      <td>3</td>\n",
       "      <td>😍</td>\n",
       "      <td>1F60D</td>\n",
       "      <td>SMILING FACE WITH HEART-SHAPED EYES</td>\n",
       "      <td>680382416</td>\n",
       "    </tr>\n",
       "    <tr>\n",
       "      <th>3</th>\n",
       "      <td>4</td>\n",
       "      <td>♥️</td>\n",
       "      <td>2665</td>\n",
       "      <td>BLACK HEART SUIT</td>\n",
       "      <td>652715459</td>\n",
       "    </tr>\n",
       "    <tr>\n",
       "      <th>4</th>\n",
       "      <td>5</td>\n",
       "      <td>😭</td>\n",
       "      <td>1F62D</td>\n",
       "      <td>LOUDLY CRYING FACE</td>\n",
       "      <td>515991922</td>\n",
       "    </tr>\n",
       "    <tr>\n",
       "      <th>5</th>\n",
       "      <td>6</td>\n",
       "      <td>😊</td>\n",
       "      <td>1F60A</td>\n",
       "      <td>SMILING FACE WITH SMILING EYES</td>\n",
       "      <td>484540701</td>\n",
       "    </tr>\n",
       "    <tr>\n",
       "      <th>6</th>\n",
       "      <td>7</td>\n",
       "      <td>♻️</td>\n",
       "      <td>267B</td>\n",
       "      <td>BLACK UNIVERSAL RECYCLING SYMBOL</td>\n",
       "      <td>452489849</td>\n",
       "    </tr>\n",
       "    <tr>\n",
       "      <th>7</th>\n",
       "      <td>8</td>\n",
       "      <td>😒</td>\n",
       "      <td>1F612</td>\n",
       "      <td>UNAMUSED FACE</td>\n",
       "      <td>441690175</td>\n",
       "    </tr>\n",
       "    <tr>\n",
       "      <th>8</th>\n",
       "      <td>9</td>\n",
       "      <td>💕</td>\n",
       "      <td>1F495</td>\n",
       "      <td>TWO HEARTS</td>\n",
       "      <td>381679908</td>\n",
       "    </tr>\n",
       "    <tr>\n",
       "      <th>9</th>\n",
       "      <td>10</td>\n",
       "      <td>😘</td>\n",
       "      <td>1F618</td>\n",
       "      <td>FACE THROWING A KISS</td>\n",
       "      <td>377847645</td>\n",
       "    </tr>\n",
       "  </tbody>\n",
       "</table>\n",
       "</div>"
      ],
      "text/plain": [
       "   id emoji_char emoji_id                                 name       score\n",
       "0   1          😂    1F602               FACE WITH TEARS OF JOY  1814832150\n",
       "1   2         ❤️     2764                    HEAVY BLACK HEART   840619939\n",
       "2   3          😍    1F60D  SMILING FACE WITH HEART-SHAPED EYES   680382416\n",
       "3   4         ♥️     2665                     BLACK HEART SUIT   652715459\n",
       "4   5          😭    1F62D                   LOUDLY CRYING FACE   515991922\n",
       "5   6          😊    1F60A       SMILING FACE WITH SMILING EYES   484540701\n",
       "6   7         ♻️     267B     BLACK UNIVERSAL RECYCLING SYMBOL   452489849\n",
       "7   8          😒    1F612                        UNAMUSED FACE   441690175\n",
       "8   9          💕    1F495                           TWO HEARTS   381679908\n",
       "9  10          😘    1F618                 FACE THROWING A KISS   377847645"
      ]
     },
     "execution_count": 35,
     "metadata": {},
     "output_type": "execute_result"
    }
   ],
   "source": [
    "# BONUS: Use Pandas `read_sql_query` to load a query statement directly into the DataFrame\n",
    "stmt = session.query(Emoji).\\\n",
    "    order_by(Emoji.score.desc()).statement\n",
    "df2 = pd.read_sql_query(stmt, session.bind)\n",
    "df2.head(10)"
   ]
  },
  {
   "cell_type": "code",
   "execution_count": null,
   "metadata": {},
   "outputs": [],
   "source": []
  }
 ],
 "metadata": {
  "kernelspec": {
   "display_name": "PythonData",
   "language": "python",
   "name": "pythondata"
  },
  "language_info": {
   "codemirror_mode": {
    "name": "ipython",
    "version": 3
   },
   "file_extension": ".py",
   "mimetype": "text/x-python",
   "name": "python",
   "nbconvert_exporter": "python",
   "pygments_lexer": "ipython3",
   "version": "3.7.3"
  },
  "varInspector": {
   "cols": {
    "lenName": 16,
    "lenType": 16,
    "lenVar": 40
   },
   "kernels_config": {
    "python": {
     "delete_cmd_postfix": "",
     "delete_cmd_prefix": "del ",
     "library": "var_list.py",
     "varRefreshCmd": "print(var_dic_list())"
    },
    "r": {
     "delete_cmd_postfix": ") ",
     "delete_cmd_prefix": "rm(",
     "library": "var_list.r",
     "varRefreshCmd": "cat(var_dic_list()) "
    }
   },
   "types_to_exclude": [
    "module",
    "function",
    "builtin_function_or_method",
    "instance",
    "_Feature"
   ],
   "window_display": false
  }
 },
 "nbformat": 4,
 "nbformat_minor": 4
}
