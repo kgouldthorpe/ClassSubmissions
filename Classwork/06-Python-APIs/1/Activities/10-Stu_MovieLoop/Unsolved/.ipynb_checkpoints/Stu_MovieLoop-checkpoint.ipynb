{
 "cells": [
  {
   "cell_type": "code",
   "execution_count": 27,
   "metadata": {},
   "outputs": [],
   "source": [
    "# Dependencies\n",
    "import requests\n",
    "\n",
    "url = \"http://www.omdbapi.com/?apikey=d8cbdeb3&t=\"\n",
    "\n",
    "movies = [\"Aliens\", \"Sing\", \"Moana\"]\n",
    "director = [];"
   ]
  },
  {
   "cell_type": "code",
   "execution_count": 28,
   "metadata": {},
   "outputs": [
    {
     "name": "stdout",
     "output_type": "stream",
     "text": [
      "The director of Aliens was James Cameron.\n",
      "The director of Sing was Garth Jennings, Christophe Lourdelet(co-director).\n",
      "The director of Moana was Ron Clements, John Musker, Don Hall(co-director), Chris Williams(co-director).\n"
     ]
    }
   ],
   "source": [
    "for x in movies:\n",
    "    data = requests.get(url + x).json()\n",
    "    director.append(data)\n",
    "    print(f\"The director of {x} was {data['Director']}.\")"
   ]
  },
  {
   "cell_type": "code",
   "execution_count": 29,
   "metadata": {},
   "outputs": [
    {
     "name": "stdout",
     "output_type": "stream",
     "text": [
      "[{'Title': 'Aliens', 'Year': '1986', 'Rated': 'R', 'Released': '18 Jul 1986', 'Runtime': '137 min', 'Genre': 'Action, Adventure, Sci-Fi, Thriller', 'Director': 'James Cameron', 'Writer': \"James Cameron (story by), David Giler (story by), Walter Hill (story by), Dan O'Bannon (based on characters created by), Ronald Shusett (based on characters created by), James Cameron (screenplay by)\", 'Actors': 'Sigourney Weaver, Carrie Henn, Michael Biehn, Paul Reiser', 'Plot': 'Ellen Ripley is rescued by a deep salvage team after being in hypersleep for 57 years. The moon that the Nostromo visited has been colonized, but contact is lost. This time, colonial marines have impressive firepower, but will that be enough?', 'Language': 'English', 'Country': 'USA, UK', 'Awards': 'Won 2 Oscars. Another 18 wins & 22 nominations.', 'Poster': 'https://m.media-amazon.com/images/M/MV5BZGU2OGY5ZTYtMWNhYy00NjZiLWI0NjUtZmNhY2JhNDRmODU3XkEyXkFqcGdeQXVyNzkwMjQ5NzM@._V1_SX300.jpg', 'Ratings': [{'Source': 'Internet Movie Database', 'Value': '8.4/10'}, {'Source': 'Rotten Tomatoes', 'Value': '99%'}, {'Source': 'Metacritic', 'Value': '84/100'}], 'Metascore': '84', 'imdbRating': '8.4', 'imdbVotes': '602,195', 'imdbID': 'tt0090605', 'Type': 'movie', 'DVD': '01 Jun 1999', 'BoxOffice': 'N/A', 'Production': '20th Century Fox', 'Website': 'https://www.foxmovies.com/movies/aliens', 'Response': 'True'}, {'Title': 'Sing', 'Year': '2016', 'Rated': 'PG', 'Released': '21 Dec 2016', 'Runtime': '108 min', 'Genre': 'Animation, Comedy, Family, Musical', 'Director': 'Garth Jennings, Christophe Lourdelet(co-director)', 'Writer': 'Garth Jennings', 'Actors': 'Matthew McConaughey, Reese Witherspoon, Seth MacFarlane, Scarlett Johansson', 'Plot': \"In a city of humanoid animals, a hustling theater impresario's attempt to save his theater with a singing competition becomes grander than he anticipates even as its finalists find that their lives will never be the same.\", 'Language': 'English, Japanese, Ukrainian', 'Country': 'Japan, USA', 'Awards': 'Nominated for 2 Golden Globes. Another 2 wins & 21 nominations.', 'Poster': 'https://m.media-amazon.com/images/M/MV5BMTYzODYzODU2Ml5BMl5BanBnXkFtZTgwNTc1MTA2NzE@._V1_SX300.jpg', 'Ratings': [{'Source': 'Internet Movie Database', 'Value': '7.1/10'}, {'Source': 'Rotten Tomatoes', 'Value': '71%'}, {'Source': 'Metacritic', 'Value': '59/100'}], 'Metascore': '59', 'imdbRating': '7.1', 'imdbVotes': '116,869', 'imdbID': 'tt3470600', 'Type': 'movie', 'DVD': '21 Mar 2017', 'BoxOffice': '$270,322,940', 'Production': 'Illumination Entertainment', 'Website': 'http://www.singmovie.com/', 'Response': 'True'}, {'Title': 'Moana', 'Year': '2016', 'Rated': 'PG', 'Released': '23 Nov 2016', 'Runtime': '107 min', 'Genre': 'Animation, Adventure, Comedy, Family, Fantasy, Musical', 'Director': 'Ron Clements, John Musker, Don Hall(co-director), Chris Williams(co-director)', 'Writer': 'Jared Bush (screenplay by), Ron Clements (story by), John Musker (story by), Chris Williams (story by), Don Hall (story by), Pamela Ribon (story by), Aaron Kandell (story by), Jordan Kandell (story by)', 'Actors': \"Auli'i Cravalho, Dwayne Johnson, Rachel House, Temuera Morrison\", 'Plot': \"In Ancient Polynesia, when a terrible curse incurred by the Demigod Maui reaches Moana's island, she answers the Ocean's call to seek out the Demigod to set things right.\", 'Language': 'English', 'Country': 'USA', 'Awards': 'Nominated for 2 Oscars. Another 18 wins & 83 nominations.', 'Poster': 'https://m.media-amazon.com/images/M/MV5BMjI4MzU5NTExNF5BMl5BanBnXkFtZTgwNzY1MTEwMDI@._V1_SX300.jpg', 'Ratings': [{'Source': 'Internet Movie Database', 'Value': '7.6/10'}, {'Source': 'Rotten Tomatoes', 'Value': '95%'}, {'Source': 'Metacritic', 'Value': '81/100'}], 'Metascore': '81', 'imdbRating': '7.6', 'imdbVotes': '225,455', 'imdbID': 'tt3521164', 'Type': 'movie', 'DVD': '07 Mar 2017', 'BoxOffice': '$248,752,120', 'Production': 'Walt Disney Pictures', 'Website': 'http://movies.disney.com/moana', 'Response': 'True'}]\n"
     ]
    }
   ],
   "source": [
    "\n",
    "print(director)"
   ]
  },
  {
   "cell_type": "code",
   "execution_count": null,
   "metadata": {},
   "outputs": [],
   "source": []
  }
 ],
 "metadata": {
  "kernelspec": {
   "display_name": "Python 3",
   "language": "python",
   "name": "python3"
  },
  "language_info": {
   "codemirror_mode": {
    "name": "ipython",
    "version": 3
   },
   "file_extension": ".py",
   "mimetype": "text/x-python",
   "name": "python",
   "nbconvert_exporter": "python",
   "pygments_lexer": "ipython3",
   "version": "3.6.8"
  },
  "varInspector": {
   "cols": {
    "lenName": 16,
    "lenType": 16,
    "lenVar": 40
   },
   "kernels_config": {
    "python": {
     "delete_cmd_postfix": "",
     "delete_cmd_prefix": "del ",
     "library": "var_list.py",
     "varRefreshCmd": "print(var_dic_list())"
    },
    "r": {
     "delete_cmd_postfix": ") ",
     "delete_cmd_prefix": "rm(",
     "library": "var_list.r",
     "varRefreshCmd": "cat(var_dic_list()) "
    }
   },
   "types_to_exclude": [
    "module",
    "function",
    "builtin_function_or_method",
    "instance",
    "_Feature"
   ],
   "window_display": false
  }
 },
 "nbformat": 4,
 "nbformat_minor": 2
}
