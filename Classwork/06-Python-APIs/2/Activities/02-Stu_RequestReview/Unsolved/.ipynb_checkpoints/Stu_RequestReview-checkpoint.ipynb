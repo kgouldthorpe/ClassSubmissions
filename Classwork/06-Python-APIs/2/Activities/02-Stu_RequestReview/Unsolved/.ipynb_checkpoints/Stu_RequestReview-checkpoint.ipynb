{
 "cells": [
  {
   "cell_type": "code",
   "execution_count": 4,
   "metadata": {},
   "outputs": [],
   "source": [
    "# Dependencies\n",
    "import json\n",
    "import requests "
   ]
  },
  {
   "cell_type": "code",
   "execution_count": 10,
   "metadata": {},
   "outputs": [
    {
     "data": {
      "text/plain": [
       "[{'saved': True,\n",
       "  '_id': '5d2e4d7c87d7ae0015ffb5f2',\n",
       "  'headline': 'A Hit Podcast Finds ‘True Crime’ in the Justice System',\n",
       "  'summary': 'Facts brought to light by “In the Dark,” led by the reporter Madeleine Baran and the producer Samara Freemark, made their way to the Supreme Court.',\n",
       "  'url': 'https://www.nytimes.com/2019/07/14/business/media/in-the-dark-podcast.html',\n",
       "  'date': '2019-07-16T22:19:40.712Z',\n",
       "  '__v': 0},\n",
       " {'saved': True,\n",
       "  '_id': '5d2e4d7c87d7ae0015ffb5f0',\n",
       "  'headline': 'In Trump I Trust',\n",
       "  'summary': 'The president’s political project requires more than a few leaps of faith.',\n",
       "  'url': 'https://www.nytimes.com/2019/07/16/opinion/donald-trump-lies.html',\n",
       "  'date': '2019-07-16T22:19:40.711Z',\n",
       "  '__v': 0},\n",
       " {'saved': False,\n",
       "  '_id': '5d2e4d7c87d7ae0015ffb5f1',\n",
       "  'headline': 'LeBron James Jr., 14, Already Draws Curious Crowds',\n",
       "  'summary': 'Fans packed a youth basketball tournament in South Carolina to catch a glimpse of LeBron James’s eldest child, who goes by Bronny.',\n",
       "  'url': 'https://www.nytimes.com/2019/07/16/sports/lebron-james-jr-bronny.html',\n",
       "  'date': '2019-07-16T22:19:40.711Z',\n",
       "  '__v': 0},\n",
       " {'saved': False,\n",
       "  '_id': '5d2e4d7c87d7ae0015ffb5ef',\n",
       "  'headline': 'For Apollo 11 He Wasn’t on the Moon. But His Coffee Was Warm.',\n",
       "  'summary': 'Michael Collins kept an orbital vigil during Neil Armstrong and Buzz Aldrin’s moonwalk. But he really didn’t feel that lonely.',\n",
       "  'url': 'https://www.nytimes.com/2019/07/16/science/michael-collins-apollo-11.html',\n",
       "  'date': '2019-07-16T22:19:40.711Z',\n",
       "  '__v': 0},\n",
       " {'saved': False,\n",
       "  '_id': '5d2e4d7c87d7ae0015ffb5ed',\n",
       "  'headline': 'Planned Parenthood Removes Leana Wen as President',\n",
       "  'summary': 'The organization removed Dr. Wen after less than a year in the job, and at a time when states are passing new laws to restrict abortion.',\n",
       "  'url': 'https://www.nytimes.com/2019/07/16/us/politics/planned-parenthood-leana-wen.html',\n",
       "  'date': '2019-07-16T22:19:40.710Z',\n",
       "  '__v': 0},\n",
       " {'saved': False,\n",
       "  '_id': '5d2e4d7c87d7ae0015ffb5ee',\n",
       "  'headline': 'Progress Is Being Made in the Opioid Crisis, but for How Long?How the Opioid Crisis Arrived at New York’s Commuter Hubs',\n",
       "  'summary': 'In the throes of addiction, people congregate around Penn Station and the Port Authority Bus Terminal.',\n",
       "  'url': 'https://www.nytimes.com/2019/07/16/health/opioids-grants-treatment-addiction.html',\n",
       "  'date': '2019-07-16T22:19:40.710Z',\n",
       "  '__v': 0}]"
      ]
     },
     "execution_count": 10,
     "metadata": {},
     "output_type": "execute_result"
    }
   ],
   "source": [
    "# Specify the URL\n",
    "url = \"http://nyt-mongo-scraper.herokuapp.com/api/headlines\"\n",
    "response = requests.get(url)\n",
    "json_file = response.json()\n",
    "json_file\n",
    "# Make request and store response"
   ]
  },
  {
   "cell_type": "code",
   "execution_count": null,
   "metadata": {
    "collapsed": true
   },
   "outputs": [],
   "source": [
    "# JSON-ify response"
   ]
  },
  {
   "cell_type": "code",
   "execution_count": 17,
   "metadata": {
    "scrolled": true
   },
   "outputs": [
    {
     "name": "stdout",
     "output_type": "stream",
     "text": [
      "The first repsonse is: {\n",
      "  \"saved\": true,\n",
      "  \"_id\": \"5d2e4d7c87d7ae0015ffb5f2\",\n",
      "  \"headline\": \"A Hit Podcast Finds \\u2018True Crime\\u2019 in the Justice System\",\n",
      "  \"summary\": \"Facts brought to light by \\u201cIn the Dark,\\u201d led by the reporter Madeleine Baran and the producer Samara Freemark, made their way to the Supreme Court.\",\n",
      "  \"url\": \"https://www.nytimes.com/2019/07/14/business/media/in-the-dark-podcast.html\",\n",
      "  \"date\": \"2019-07-16T22:19:40.712Z\",\n",
      "  \"__v\": 0\n",
      "}\n",
      "The last response is: {\n",
      "  \"saved\": false,\n",
      "  \"_id\": \"5d2e4d7c87d7ae0015ffb5ee\",\n",
      "  \"headline\": \"Progress Is Being Made in the Opioid Crisis, but for How Long?How the Opioid Crisis Arrived at New York\\u2019s Commuter Hubs\",\n",
      "  \"summary\": \"In the throes of addiction, people congregate around Penn Station and the Port Authority Bus Terminal.\",\n",
      "  \"url\": \"https://www.nytimes.com/2019/07/16/health/opioids-grants-treatment-addiction.html\",\n",
      "  \"date\": \"2019-07-16T22:19:40.710Z\",\n",
      "  \"__v\": 0\n",
      "}\n"
     ]
    }
   ],
   "source": [
    "# Print first and last articles\n",
    "print(f\"The first repsonse is: {json.dumps(json_file[0], indent = 2)}\")\n",
    "print(f\"The last response is: {json.dumps(json_file[-1], indent = 2)}\")"
   ]
  },
  {
   "cell_type": "code",
   "execution_count": 18,
   "metadata": {},
   "outputs": [
    {
     "name": "stdout",
     "output_type": "stream",
     "text": [
      "The number of responses received are 6\n"
     ]
    }
   ],
   "source": [
    "#Print the number of responses received.\n",
    "print(f\"The number of responses received are {len(json_file)}\")"
   ]
  },
  {
   "cell_type": "code",
   "execution_count": null,
   "metadata": {},
   "outputs": [],
   "source": []
  }
 ],
 "metadata": {
  "kernelspec": {
   "display_name": "Python 3",
   "language": "python",
   "name": "python3"
  },
  "language_info": {
   "codemirror_mode": {
    "name": "ipython",
    "version": 3
   },
   "file_extension": ".py",
   "mimetype": "text/x-python",
   "name": "python",
   "nbconvert_exporter": "python",
   "pygments_lexer": "ipython3",
   "version": "3.6.8"
  },
  "varInspector": {
   "cols": {
    "lenName": 16,
    "lenType": 16,
    "lenVar": 40
   },
   "kernels_config": {
    "python": {
     "delete_cmd_postfix": "",
     "delete_cmd_prefix": "del ",
     "library": "var_list.py",
     "varRefreshCmd": "print(var_dic_list())"
    },
    "r": {
     "delete_cmd_postfix": ") ",
     "delete_cmd_prefix": "rm(",
     "library": "var_list.r",
     "varRefreshCmd": "cat(var_dic_list()) "
    }
   },
   "types_to_exclude": [
    "module",
    "function",
    "builtin_function_or_method",
    "instance",
    "_Feature"
   ],
   "window_display": false
  }
 },
 "nbformat": 4,
 "nbformat_minor": 2
}
